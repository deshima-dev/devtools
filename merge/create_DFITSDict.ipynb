{
 "cells": [
  {
   "cell_type": "markdown",
   "metadata": {},
   "source": [
    "# <font color='Red'>CREATE THE DICTIONARY FOR DFITS (yaml)</font>"
   ]
  },
  {
   "cell_type": "markdown",
   "metadata": {},
   "source": [
    "## ---------------- Import Modules"
   ]
  },
  {
   "cell_type": "code",
   "execution_count": null,
   "metadata": {
    "collapsed": true
   },
   "outputs": [],
   "source": [
    "import yaml"
   ]
  },
  {
   "cell_type": "markdown",
   "metadata": {},
   "source": [
    "## ---------------- OBSINFO"
   ]
  },
  {
   "cell_type": "code",
   "execution_count": null,
   "metadata": {
    "collapsed": true
   },
   "outputs": [],
   "source": [
    "hdr_key_lis = ['EXTNAME', 'FITSTYPE', 'DDB_ID', 'TELESCOP', 'SITELON', 'SITELAT', 'DATE-OBS',\n",
    "               'OBSERVER', 'OBJECT', 'RA', 'DEC', 'EQUINOX', 'KIDTYPE0', 'KIDTYPE1', 'KIDTYPE2']\n",
    "hdr_val_lis = ['OBSINFO', 'DESHIMAFITSv0', None, None, None, None, None, None, None, None, None, None,\n",
    "               'signal', 'absorber', 'blind']\n",
    "hdr_com_lis = ['name of binary table', 'declares DESHIMA FITS', \n",
    "               'the ID of DESHIMA database', 'name of used telecsope',\n",
    "               'site longitude in units of deg', 'site latitude in units of deg',\n",
    "               'YYYY-mm-ddTHH:MM:SS', 'name of observer', 'name of observed object',\n",
    "               'right ascension of the object in units of deg',\n",
    "               'declination of the object in units of deg', 'equinox of coordinates',\n",
    "               None, None, None,\n",
    "               'label for field 1', 'data format of field 1',\n",
    "               'label for field 2', 'data format of field 2', 'data unit of field 2',\n",
    "               'label for field 3', 'data format of field 3', 'data unit of field 3',\n",
    "               'label for field 4', 'data format of field 4', 'data unit of field 4',\n",
    "               'label for field 5', 'data format of field 5', 'data unit of field 5',\n",
    "               'label for field 6', 'data format of field 6', 'data unit of field 6',\n",
    "               'label for field 7', 'data format of field 7', 'data unit of field 7',\n",
    "               'label for field 8', 'data format of field 8',\n",
    "               'label for field 9', 'data format of field 9',\n",
    "               'label for field 10', 'data format of field 10']\n",
    "cols_key_lis = ['pixelid', 'offsetaz', 'offsetel', 'interval', 'integtime',\n",
    "                'beamsize', 'gain', 'kidids', 'kidtypes', 'kidfreqs']\n",
    "cols_data_lis = None\n",
    "tform = ['K', 'D', 'D', 'D', 'D', 'D', 'D', '49K', '49K', '49D']\n",
    "tunit = [None, 'deg', 'deg', 's', 's', 'deg', '1', None, None, None]\n",
    "\n",
    "obsinfo_dict = {'hdr_key_lis': hdr_key_lis,\n",
    "                'hdr_val_lis': hdr_val_lis,\n",
    "                'hdr_com_lis': hdr_com_lis,\n",
    "                'cols_key_lis': cols_key_lis,\n",
    "                'cols_data_lis': cols_data_lis,\n",
    "                'tform': tform,\n",
    "                'tunit': tunit}    "
   ]
  },
  {
   "cell_type": "markdown",
   "metadata": {},
   "source": [
    "## ---------------- ANTENNA"
   ]
  },
  {
   "cell_type": "code",
   "execution_count": null,
   "metadata": {
    "collapsed": true
   },
   "outputs": [],
   "source": [
    "hdr_key_lis = ['EXTNAME', 'FILENAME']\n",
    "hdr_val_lis = ['ANTENNA', None]\n",
    "hdr_com_lis = ['name of binary table', 'filename??',\n",
    "                'label for field 1', 'data format of field 1',\n",
    "                'label for field 2', 'data format of field 2',\n",
    "                'label for field 3', 'data format of field 3', 'data unit of field 3',\n",
    "                'label for field 4', 'data format of field 4', 'data unit of field 4',\n",
    "                'label for field 5', 'data format of field 5', 'data unit of field 5',\n",
    "                'label for field 6', 'data format of field 6', 'data unit of field 6',\n",
    "                'label for field 7', 'data format of field 7', 'data unit of field 7',\n",
    "                'label for field 8', 'data format of field 8', 'data unit of field 8']\n",
    "cols_key_lis = ['time', 'scantype', 'az', 'el', 'ra', 'dec', 'az_center', 'el_center']\n",
    "cols_data_lis = None\n",
    "tform = ['26A', '4A', 'D', 'D', 'D', 'D', 'D', 'D']\n",
    "tunit = [None, None, 'deg', 'deg', 'deg', 'deg', 'deg', 'deg']\n",
    "\n",
    "antenna_dict = {'hdr_key_lis': hdr_key_lis,\n",
    "                'hdr_val_lis': hdr_val_lis,\n",
    "                'hdr_com_lis': hdr_com_lis,\n",
    "                'cols_key_lis': cols_key_lis,\n",
    "                'cols_data_lis': cols_data_lis,\n",
    "                'tform': tform,\n",
    "                'tunit': tunit}"
   ]
  },
  {
   "cell_type": "markdown",
   "metadata": {},
   "source": [
    "## ---------------- READOUT"
   ]
  },
  {
   "cell_type": "code",
   "execution_count": null,
   "metadata": {
    "collapsed": true
   },
   "outputs": [],
   "source": [
    "hdr_key_lis = ['EXTNAME', 'FILENAME']\n",
    "hdr_val_lis = ['READOUT', None]\n",
    "hdr_com_lis = ['name of binary data', 'filename??',\n",
    "               'label for field 1', 'data format of field 1',\n",
    "               'label for field 2', 'data format of field 2',\n",
    "               'label for field 3', 'data format of field 3']\n",
    "cols_key_lis = ['starttime', 'pixelid', 'arraydata']\n",
    "cols_data_lis = None\n",
    "tform = ['26A', 'K', '49D']\n",
    "tunit = [None, None, None]\n",
    "\n",
    "readout_dict = {'hdr_key_lis': hdr_key_lis,\n",
    "                'hdr_val_lis': hdr_val_lis,\n",
    "                'hdr_com_lis': hdr_com_lis,\n",
    "                'cols_key_lis': cols_key_lis,\n",
    "                'cols_data_lis': cols_data_lis,\n",
    "                'tform': tform,\n",
    "                'tunit': tunit}"
   ]
  },
  {
   "cell_type": "markdown",
   "metadata": {},
   "source": [
    "## ---------------- FILTERS"
   ]
  },
  {
   "cell_type": "code",
   "execution_count": null,
   "metadata": {
    "collapsed": true
   },
   "outputs": [],
   "source": [
    "hdr_key_lis = ['EXTNAME', 'FILENAME', 'CTYPE3', 'CRVAL3', 'CRPIX3', 'CDELT3']\n",
    "hdr_val_lis = ['FILTERS', None, 'FREQ', 0.0, 0.0, None]\n",
    "hdr_com_lis = ['name of binary table', 'filename??', None, None, None, None,\n",
    "               'label for field 1', 'data format of field 1',\n",
    "               'label for field 2', 'data format of field 2',\n",
    "               'label for field 3', 'data format of field 3', 'data unit of field 3',\n",
    "               'label for field 4', 'data format of field 4', 'data unit of field 4']\n",
    "cols_key_lis = ['pixelid', 'kidid', 'bandpass', 'lorentz']\n",
    "cols_data_lis = None\n",
    "tform = ['K', 'K', '400D', '4D']\n",
    "tunit = [None, None, 'a.u.', 'a.u.']\n",
    "\n",
    "filters_dict = {'hdr_key_lis': hdr_key_lis,\n",
    "                'hdr_val_lis': hdr_val_lis,\n",
    "                'hdr_com_lis': hdr_com_lis,\n",
    "                'cols_key_lis': cols_key_lis,\n",
    "                'cols_data_lis': cols_data_lis,\n",
    "                'tform': tform,\n",
    "                'tunit': tunit}"
   ]
  },
  {
   "cell_type": "markdown",
   "metadata": {},
   "source": [
    "## ---------------- WEATHER"
   ]
  },
  {
   "cell_type": "code",
   "execution_count": null,
   "metadata": {
    "collapsed": true
   },
   "outputs": [],
   "source": [
    "hdr_key_lis = ['EXTNAME', 'FILENAME']\n",
    "hdr_val_lis = ['WEATHER', None]\n",
    "hdr_com_lis = ['name of binary table', 'filename??',\n",
    "                'label for field 1', 'data format of field 1',\n",
    "                'label for field 2', 'data format of field 2', 'data unit of field 2',\n",
    "                'label for field 3', 'data format of field 3', 'data unit of field 3',\n",
    "                'label for field 4', 'data format of field 4', 'data unit of field 4',\n",
    "                'label for field 5', 'data format of field 5', 'data unit of field 5',\n",
    "                'label for field 6', 'data format of field 6', 'data unit of field 6']\n",
    "cols_key_lis = ['time', 'temperature', 'pressure', 'vapor-pressure', 'windspd', 'winddir']\n",
    "cols_data_lis = None\n",
    "tform = ['19A', 'D', 'D', 'D', 'D', 'D']\n",
    "tunit = [None, 'deg_C', 'hPa', 'hPa', 'm/s', 'deg']\n",
    "\n",
    "weather_dict = {'hdr_key_lis': hdr_key_lis,\n",
    "                'hdr_val_lis': hdr_val_lis,\n",
    "                'hdr_com_lis': hdr_com_lis,\n",
    "                'cols_key_lis': cols_key_lis,\n",
    "                'cols_data_lis': cols_data_lis,\n",
    "                'tform': tform,\n",
    "                'tunit': tunit}"
   ]
  },
  {
   "cell_type": "code",
   "execution_count": null,
   "metadata": {
    "collapsed": true
   },
   "outputs": [],
   "source": [
    "dfits_dict = {'obsinfo_dict': obsinfo_dict, 'readout_dict': readout_dict,\n",
    "              'antenna_dict': antenna_dict, 'filters_dict': filters_dict,\n",
    "              'weather_dict': weather_dict}"
   ]
  },
  {
   "cell_type": "code",
   "execution_count": null,
   "metadata": {
    "collapsed": true
   },
   "outputs": [],
   "source": [
    "with open('~/DESHIMA/datafile/DFITS_dict.yaml', 'w') as f:\n",
    "    f.write(yaml.dump(dfits_dict))"
   ]
  },
  {
   "cell_type": "code",
   "execution_count": null,
   "metadata": {
    "collapsed": true
   },
   "outputs": [],
   "source": []
  }
 ],
 "metadata": {
  "kernelspec": {
   "display_name": "Python 3",
   "language": "python",
   "name": "python3"
  },
  "language_info": {
   "codemirror_mode": {
    "name": "ipython",
    "version": 3
   },
   "file_extension": ".py",
   "mimetype": "text/x-python",
   "name": "python",
   "nbconvert_exporter": "python",
   "pygments_lexer": "ipython3",
   "version": "3.6.1"
  }
 },
 "nbformat": 4,
 "nbformat_minor": 2
}
