{
 "cells": [
  {
   "cell_type": "markdown",
   "metadata": {},
   "source": [
    "# <font color='Red'>DDB (DESHIMA DATABASE)</font>"
   ]
  },
  {
   "cell_type": "markdown",
   "metadata": {},
   "source": [
    "## Import Modules"
   ]
  },
  {
   "cell_type": "code",
   "execution_count": 1,
   "metadata": {
    "collapsed": true
   },
   "outputs": [],
   "source": [
    "import os\n",
    "from pathlib import Path\n",
    "\n",
    "import yaml\n",
    "import numpy as np\n",
    "from datetime import datetime\n",
    "from astropy.io import fits\n",
    "from astropy.io import ascii\n",
    "from astropy import table\n",
    "from astropy import coordinates\n",
    "from astropy import units as u"
   ]
  },
  {
   "cell_type": "code",
   "execution_count": 2,
   "metadata": {
    "collapsed": true
   },
   "outputs": [],
   "source": [
    "D_ASTE    = (10.0* u.m).value                            # diameter of the ASTE\n",
    "LON_ASTE  = coordinates.Angle('-67d42m11.89525s').deg    # longitude of the ASTE\n",
    "LAT_ASTE  = coordinates.Angle('-22d58m17.69447s').deg    # latitude of the ASTE\n",
    "PATH_DDBDICT = Path('/Users/tetsu/DESHIMA/devtools/merge/DB/DDB_dict.yaml').expanduser()\n",
    "FORM_FITSTIME  = '%Y-%m-%dT%H:%M:%S'"
   ]
  },
  {
   "cell_type": "code",
   "execution_count": 3,
   "metadata": {
    "collapsed": true
   },
   "outputs": [],
   "source": [
    "def convert_fitstime(time_lis):\n",
    "    if len(time_lis[0]) <= 14:\n",
    "        return [datetime.strftime(datetime.strptime(time_lis[i], '%Y%m%d%H%M%S'),\n",
    "                                  FORM_FITSTIME)\n",
    "                for i in range(len(time_lis))]\n",
    "    else:\n",
    "        return [datetime.strftime(datetime.strptime(time_lis[i], '%Y%m%d%H%M%S.%f'),\n",
    "                                  FORM_FITSTIME + '.%f')\n",
    "                for i in range(len(time_lis))]\n",
    "    \n",
    "def addHeaderComments(hdr, key, com):\n",
    "    hdr.comments[key] = com\n",
    "\n",
    "\n",
    "def createBinTableHdu(data_dict):\n",
    "    header = fits.Header()\n",
    "    for (i, j, k) in zip(data_dict['hdr_key_lis'], data_dict['hdr_val_lis'], data_dict['hdr_com_lis']):\n",
    "        header[i] = j, k\n",
    "\n",
    "    columns = [fits.Column(name=data_dict['cols_key_lis'][i],\n",
    "                           format=data_dict['tform'][i],\n",
    "                           array=data_dict['cols_data_lis'][i],\n",
    "                           unit=data_dict['tunit'][i])\n",
    "               for i in range(len(data_dict['cols_key_lis']))]\n",
    "\n",
    "    hdu = fits.BinTableHDU.from_columns(columns, header)\n",
    "    [addHeaderComments(hdu.header, list(hdu.header)[i], data_dict['hdr_com_lis'][i])\n",
    "     for i in range(- (len(data_dict['hdr_com_lis']) - data_dict['hdr_com_lis'].index('label for field 1')), 0)]\n",
    "\n",
    "    return hdu"
   ]
  },
  {
   "cell_type": "code",
   "execution_count": 4,
   "metadata": {
    "collapsed": true
   },
   "outputs": [],
   "source": [
    " def make_kidsinfo(kidsinfo_data):\n",
    "    filters_data = Path(kidsinfo_data).expanduser()\n",
    "    data = np.load(filters_data)\n",
    "\n",
    "    pixelid   = np.zeros(113)\n",
    "#    kidid     = data['kidid']\n",
    "    kidid     = np.arange(0, 113)\n",
    "#    kidtypes  = np.append(np.append(np.zeros(44), np.ones(4)), np.ones(1)* 2)\n",
    "    kidtypes  = np.zeros(113)\n",
    "#    bandpass  = data['bandpass']\n",
    "    bandpass  = np.zeros((113, 400))\n",
    "#    lorentz   = data['lorentz']\n",
    "    lorentz   = np.zeros((113, 4))\n",
    "\n",
    "\n",
    "    tform4 = str(len(bandpass[0])) + 'D'\n",
    "    \n",
    "    filename = os.path.basename(filters_data)\n",
    "#    crval3   = 325.0e+09\n",
    "    crval3   = 0.0\n",
    "    crpix3   = 0.0\n",
    "#    cdelt3   = 10.0e+06\n",
    "    cdelt3   = 0.0\n",
    "\n",
    "    with open(PATH_DDBDICT, 'r') as f:\n",
    "        ddb_dict = yaml.load(f)\n",
    "\n",
    "    kidsinfo_dict = ddb_dict['kidsinfo_dict']\n",
    "\n",
    "    kidsinfo_dict['hdr_val_lis'][1] = filename\n",
    "    kidsinfo_dict['hdr_val_lis'][6:] = [crval3, crpix3, cdelt3]\n",
    "    kidsinfo_dict['cols_data_lis'] = [pixelid, kidid, kidtypes, bandpass, lorentz]\n",
    "    kidsinfo_dict['tform'][3] = tform4\n",
    "    \n",
    "    return createBinTableHdu(kidsinfo_dict)"
   ]
  },
  {
   "cell_type": "code",
   "execution_count": 5,
   "metadata": {
    "collapsed": true
   },
   "outputs": [],
   "source": [
    " def make_rcp():\n",
    "#    filters_data = Path(rcp_data).expanduser()\n",
    "\n",
    "    pixelid   = np.arange(0, 1)\n",
    "    offsetaz  = np.zeros(1)\n",
    "    offsetel  = np.zeros(1)\n",
    "    gain      = np.ones(1)\n",
    "    \n",
    "    filename = None\n",
    "\n",
    "    with open(PATH_DDBDICT, 'r') as f:\n",
    "        ddb_dict = yaml.load(f)\n",
    "\n",
    "    rcp_dict = ddb_dict['rcp_dict']\n",
    "\n",
    "    rcp_dict['hdr_val_lis'][1] = filename\n",
    "    rcp_dict['cols_data_lis'] = [pixelid, offsetaz, offsetel, gain]\n",
    "\n",
    "    return createBinTableHdu(rcp_dict)"
   ]
  },
  {
   "cell_type": "code",
   "execution_count": 6,
   "metadata": {},
   "outputs": [],
   "source": [
    "hdus = fits.HDUList()\n",
    "hdus.append(fits.PrimaryHDU())\n",
    "#hdus['PRIMARY'].header['DDB_ID'] = '20171018151938', 'The ID of DESHIMA DataBase'\n",
    "hdus['PRIMARY'].header['DDB_ID'] = '20171022210533', 'The ID of DESHIMA DataBase'\n",
    "hdus.append(make_kidsinfo('~/DESHIMA/datafile/Filterbank/filterbank_model.npz'))\n",
    "hdus.append(make_rcp())"
   ]
  },
  {
   "cell_type": "code",
   "execution_count": 7,
   "metadata": {},
   "outputs": [
    {
     "name": "stdout",
     "output_type": "stream",
     "text": [
      "Filename: (No file associated with this HDUList)\n",
      "No.    Name         Type      Cards   Dimensions   Format\n",
      "  0  PRIMARY     PrimaryHDU       5   ()      \n",
      "  1  KIDSINFO    BinTableHDU     29   113R x 5C   ['K', 'K', 'K', '400D', '4D']   \n",
      "  2  RCP         BinTableHDU     21   1R x 4C   ['K', 'D', 'D', 'D']   \n"
     ]
    }
   ],
   "source": [
    "hdus.info()"
   ]
  },
  {
   "cell_type": "code",
   "execution_count": 8,
   "metadata": {},
   "outputs": [
    {
     "data": {
      "text/html": [
       "&lt;Table length=113&gt;\n",
       "<table id=\"table4520025392\" class=\"table-striped table-bordered table-condensed\">\n",
       "<thead><tr><th>pixelid</th><th>kidid</th><th>kidtypes</th><th>bandpass [400]</th><th>lorentz [4]</th></tr></thead>\n",
       "<thead><tr><th>int64</th><th>int64</th><th>int64</th><th>float64</th><th>float64</th></tr></thead>\n",
       "<tr><td>0</td><td>0</td><td>0</td><td>0.0 .. 0.0</td><td>0.0 .. 0.0</td></tr>\n",
       "<tr><td>0</td><td>1</td><td>0</td><td>0.0 .. 0.0</td><td>0.0 .. 0.0</td></tr>\n",
       "<tr><td>0</td><td>2</td><td>0</td><td>0.0 .. 0.0</td><td>0.0 .. 0.0</td></tr>\n",
       "<tr><td>0</td><td>3</td><td>0</td><td>0.0 .. 0.0</td><td>0.0 .. 0.0</td></tr>\n",
       "<tr><td>0</td><td>4</td><td>0</td><td>0.0 .. 0.0</td><td>0.0 .. 0.0</td></tr>\n",
       "<tr><td>0</td><td>5</td><td>0</td><td>0.0 .. 0.0</td><td>0.0 .. 0.0</td></tr>\n",
       "<tr><td>0</td><td>6</td><td>0</td><td>0.0 .. 0.0</td><td>0.0 .. 0.0</td></tr>\n",
       "<tr><td>0</td><td>7</td><td>0</td><td>0.0 .. 0.0</td><td>0.0 .. 0.0</td></tr>\n",
       "<tr><td>0</td><td>8</td><td>0</td><td>0.0 .. 0.0</td><td>0.0 .. 0.0</td></tr>\n",
       "<tr><td>0</td><td>9</td><td>0</td><td>0.0 .. 0.0</td><td>0.0 .. 0.0</td></tr>\n",
       "<tr><td>...</td><td>...</td><td>...</td><td>...</td><td>...</td></tr>\n",
       "<tr><td>0</td><td>103</td><td>0</td><td>0.0 .. 0.0</td><td>0.0 .. 0.0</td></tr>\n",
       "<tr><td>0</td><td>104</td><td>0</td><td>0.0 .. 0.0</td><td>0.0 .. 0.0</td></tr>\n",
       "<tr><td>0</td><td>105</td><td>0</td><td>0.0 .. 0.0</td><td>0.0 .. 0.0</td></tr>\n",
       "<tr><td>0</td><td>106</td><td>0</td><td>0.0 .. 0.0</td><td>0.0 .. 0.0</td></tr>\n",
       "<tr><td>0</td><td>107</td><td>0</td><td>0.0 .. 0.0</td><td>0.0 .. 0.0</td></tr>\n",
       "<tr><td>0</td><td>108</td><td>0</td><td>0.0 .. 0.0</td><td>0.0 .. 0.0</td></tr>\n",
       "<tr><td>0</td><td>109</td><td>0</td><td>0.0 .. 0.0</td><td>0.0 .. 0.0</td></tr>\n",
       "<tr><td>0</td><td>110</td><td>0</td><td>0.0 .. 0.0</td><td>0.0 .. 0.0</td></tr>\n",
       "<tr><td>0</td><td>111</td><td>0</td><td>0.0 .. 0.0</td><td>0.0 .. 0.0</td></tr>\n",
       "<tr><td>0</td><td>112</td><td>0</td><td>0.0 .. 0.0</td><td>0.0 .. 0.0</td></tr>\n",
       "</table>"
      ],
      "text/plain": [
       "<Table length=113>\n",
       "pixelid kidid kidtypes bandpass [400] lorentz [4]\n",
       " int64  int64  int64      float64       float64  \n",
       "------- ----- -------- -------------- -----------\n",
       "      0     0        0     0.0 .. 0.0  0.0 .. 0.0\n",
       "      0     1        0     0.0 .. 0.0  0.0 .. 0.0\n",
       "      0     2        0     0.0 .. 0.0  0.0 .. 0.0\n",
       "      0     3        0     0.0 .. 0.0  0.0 .. 0.0\n",
       "      0     4        0     0.0 .. 0.0  0.0 .. 0.0\n",
       "      0     5        0     0.0 .. 0.0  0.0 .. 0.0\n",
       "      0     6        0     0.0 .. 0.0  0.0 .. 0.0\n",
       "      0     7        0     0.0 .. 0.0  0.0 .. 0.0\n",
       "      0     8        0     0.0 .. 0.0  0.0 .. 0.0\n",
       "      0     9        0     0.0 .. 0.0  0.0 .. 0.0\n",
       "    ...   ...      ...            ...         ...\n",
       "      0   103        0     0.0 .. 0.0  0.0 .. 0.0\n",
       "      0   104        0     0.0 .. 0.0  0.0 .. 0.0\n",
       "      0   105        0     0.0 .. 0.0  0.0 .. 0.0\n",
       "      0   106        0     0.0 .. 0.0  0.0 .. 0.0\n",
       "      0   107        0     0.0 .. 0.0  0.0 .. 0.0\n",
       "      0   108        0     0.0 .. 0.0  0.0 .. 0.0\n",
       "      0   109        0     0.0 .. 0.0  0.0 .. 0.0\n",
       "      0   110        0     0.0 .. 0.0  0.0 .. 0.0\n",
       "      0   111        0     0.0 .. 0.0  0.0 .. 0.0\n",
       "      0   112        0     0.0 .. 0.0  0.0 .. 0.0"
      ]
     },
     "execution_count": 8,
     "metadata": {},
     "output_type": "execute_result"
    }
   ],
   "source": [
    "table.Table(hdus['KIDSINFO'].data)"
   ]
  },
  {
   "cell_type": "code",
   "execution_count": 9,
   "metadata": {
    "collapsed": true
   },
   "outputs": [],
   "source": [
    "ddb_fitsname = 'DDB_' + hdus['PRIMARY'].header['DDB_ID'] + '.fits'\n",
    "#hdus.writeto('~/DESHIMA/datafile/' + ddb_fitsname)\n",
    "hdus.writeto('/Users/tetsu/DESHIMA/devtools/merge/DB/' + ddb_fitsname)"
   ]
  },
  {
   "cell_type": "code",
   "execution_count": null,
   "metadata": {
    "collapsed": true
   },
   "outputs": [],
   "source": []
  }
 ],
 "metadata": {
  "kernelspec": {
   "display_name": "Python 3",
   "language": "python",
   "name": "python3"
  },
  "language_info": {
   "codemirror_mode": {
    "name": "ipython",
    "version": 3
   },
   "file_extension": ".py",
   "mimetype": "text/x-python",
   "name": "python",
   "nbconvert_exporter": "python",
   "pygments_lexer": "ipython3",
   "version": "3.6.1"
  }
 },
 "nbformat": 4,
 "nbformat_minor": 2
}
