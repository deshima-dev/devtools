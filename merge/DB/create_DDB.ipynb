{
 "cells": [
  {
   "cell_type": "markdown",
   "metadata": {},
   "source": [
    "# <font color='Red'>DDB (DESHIMA DATABASE)</font>"
   ]
  },
  {
   "cell_type": "markdown",
   "metadata": {},
   "source": [
    "## Import Modules"
   ]
  },
  {
   "cell_type": "code",
   "execution_count": 10,
   "metadata": {
    "collapsed": true
   },
   "outputs": [],
   "source": [
    "import os\n",
    "from pathlib import Path\n",
    "\n",
    "import yaml\n",
    "import numpy as np\n",
    "from datetime import datetime\n",
    "from astropy.io import fits\n",
    "from astropy.io import ascii\n",
    "from astropy import table\n",
    "from astropy import coordinates\n",
    "from astropy import units as u"
   ]
  },
  {
   "cell_type": "code",
   "execution_count": 11,
   "metadata": {
    "collapsed": true
   },
   "outputs": [],
   "source": [
    "D_ASTE    = (10.0* u.m).value                            # diameter of the ASTE\n",
    "LON_ASTE  = coordinates.Angle('-67d42m11.89525s').deg    # longitude of the ASTE\n",
    "LAT_ASTE  = coordinates.Angle('-22d58m17.69447s').deg    # latitude of the ASTE\n",
    "PATH_DDBDICT = Path('~/DESHIMA/datafile/DDB_dict.yaml').expanduser()\n",
    "FORM_FITSTIME  = '%Y-%m-%dT%H:%M:%S'"
   ]
  },
  {
   "cell_type": "code",
   "execution_count": 12,
   "metadata": {
    "collapsed": true
   },
   "outputs": [],
   "source": [
    "def convert_fitstime(time_lis):\n",
    "    if len(time_lis[0]) <= 14:\n",
    "        return [datetime.strftime(datetime.strptime(time_lis[i], '%Y%m%d%H%M%S'),\n",
    "                                  FORM_FITSTIME)\n",
    "                for i in range(len(time_lis))]\n",
    "    else:\n",
    "        return [datetime.strftime(datetime.strptime(time_lis[i], '%Y%m%d%H%M%S.%f'),\n",
    "                                  FORM_FITSTIME + '.%f')\n",
    "                for i in range(len(time_lis))]\n",
    "    \n",
    "def addHeaderComments(hdr, key, com):\n",
    "    hdr.comments[key] = com\n",
    "\n",
    "\n",
    "def createBinTableHdu(data_dict):\n",
    "    header = fits.Header()\n",
    "    for (i, j, k) in zip(data_dict['hdr_key_lis'], data_dict['hdr_val_lis'], data_dict['hdr_com_lis']):\n",
    "        header[i] = j, k\n",
    "\n",
    "    columns = [fits.Column(name=data_dict['cols_key_lis'][i],\n",
    "                           format=data_dict['tform'][i],\n",
    "                           array=data_dict['cols_data_lis'][i],\n",
    "                           unit=data_dict['tunit'][i])\n",
    "               for i in range(len(data_dict['cols_key_lis']))]\n",
    "\n",
    "    hdu = fits.BinTableHDU.from_columns(columns, header)\n",
    "    [addHeaderComments(hdu.header, list(hdu.header)[i], data_dict['hdr_com_lis'][i])\n",
    "     for i in range(- (len(data_dict['hdr_com_lis']) - data_dict['hdr_com_lis'].index('label for field 1')), 0)]\n",
    "\n",
    "    return hdu"
   ]
  },
  {
   "cell_type": "code",
   "execution_count": 13,
   "metadata": {
    "collapsed": true
   },
   "outputs": [],
   "source": [
    " def make_kidsinfo(kidsinfo_data):\n",
    "    filters_data = Path(kidsinfo_data).expanduser()\n",
    "    data = np.load(filters_data)\n",
    "\n",
    "    pixelid   = np.zeros(49)\n",
    "    kidid     = data['kidid']\n",
    "    kidtypes  = np.append(np.append(np.zeros(44), np.ones(4)), np.ones(1)* 2)\n",
    "    bandpass  = data['bandpass']\n",
    "    lorentz   = data['lorentz']\n",
    "\n",
    "\n",
    "    tform4 = str(len(bandpass[0])) + 'D'\n",
    "    \n",
    "    filename = os.path.basename(filters_data)\n",
    "    crval3   = 325.0e+09\n",
    "    crpix3   = 0.0\n",
    "    cdelt3   = 10.0e+06\n",
    "\n",
    "    with open(PATH_DDBDICT, 'r') as f:\n",
    "        ddb_dict = yaml.load(f)\n",
    "\n",
    "    kidsinfo_dict = ddb_dict['kidsinfo_dict']\n",
    "\n",
    "    kidsinfo_dict['hdr_val_lis'][1] = filename\n",
    "    kidsinfo_dict['hdr_val_lis'][6:] = [crval3, crpix3, cdelt3]\n",
    "    kidsinfo_dict['cols_data_lis'] = [pixelid, kidid, kidtypes, bandpass, lorentz]\n",
    "    kidsinfo_dict['tform'][3] = tform4\n",
    "    \n",
    "    return createBinTableHdu(kidsinfo_dict)"
   ]
  },
  {
   "cell_type": "code",
   "execution_count": 14,
   "metadata": {
    "collapsed": true
   },
   "outputs": [],
   "source": [
    " def make_rcp():\n",
    "#    filters_data = Path(rcp_data).expanduser()\n",
    "\n",
    "    pixelid   = np.arange(0, 1)\n",
    "    offsetaz  = np.zeros(1)\n",
    "    offsetel  = np.zeros(1)\n",
    "    gain      = np.ones(1)\n",
    "    \n",
    "    filename = None\n",
    "\n",
    "    with open(PATH_DDBDICT, 'r') as f:\n",
    "        ddb_dict = yaml.load(f)\n",
    "\n",
    "    rcp_dict = ddb_dict['rcp_dict']\n",
    "\n",
    "    rcp_dict['hdr_val_lis'][1] = filename\n",
    "    rcp_dict['cols_data_lis'] = [pixelid, offsetaz, offsetel, gain]\n",
    "\n",
    "    return createBinTableHdu(rcp_dict)"
   ]
  },
  {
   "cell_type": "code",
   "execution_count": 15,
   "metadata": {
    "collapsed": true
   },
   "outputs": [],
   "source": [
    "hdus = fits.HDUList()\n",
    "hdus.append(fits.PrimaryHDU())\n",
    "hdus['PRIMARY'].header['DDB_ID'] = '20171018151938', 'The ID of DESHIMA DataBase'\n",
    "hdus.append(make_kidsinfo('~/DESHIMA/datafile/Filterbank/filterbank_model.npz'))\n",
    "hdus.append(make_rcp())"
   ]
  },
  {
   "cell_type": "code",
   "execution_count": 16,
   "metadata": {},
   "outputs": [
    {
     "name": "stdout",
     "output_type": "stream",
     "text": [
      "Filename: (No file associated with this HDUList)\n",
      "No.    Name         Type      Cards   Dimensions   Format\n",
      "  0  PRIMARY     PrimaryHDU       5   ()      \n",
      "  1  KIDSINFO    BinTableHDU     29   49R x 5C   ['K', 'K', 'K', '400D', '4D']   \n",
      "  2  RCP         BinTableHDU     21   1R x 4C   ['K', 'D', 'D', 'D']   \n"
     ]
    }
   ],
   "source": [
    "hdus.info()"
   ]
  },
  {
   "cell_type": "code",
   "execution_count": 17,
   "metadata": {},
   "outputs": [
    {
     "data": {
      "text/html": [
       "&lt;Table length=49&gt;\n",
       "<table id=\"table4725773256\" class=\"table-striped table-bordered table-condensed\">\n",
       "<thead><tr><th>pixelid</th><th>kidid</th><th>kidtypes</th><th>bandpass [400]</th><th>lorentz [4]</th></tr></thead>\n",
       "<thead><tr><th>int64</th><th>int64</th><th>int64</th><th>float64</th><th>float64</th></tr></thead>\n",
       "<tr><td>0</td><td>0</td><td>0</td><td>0.0461851887557 .. 0.037740299465</td><td>0.0 .. 0.0</td></tr>\n",
       "<tr><td>0</td><td>1</td><td>0</td><td>0.0483083776886 .. 0.0469188614852</td><td>0.0 .. 0.0</td></tr>\n",
       "<tr><td>0</td><td>2</td><td>0</td><td>0.0246086646002 .. 0.0372831801211</td><td>0.0 .. 0.0</td></tr>\n",
       "<tr><td>0</td><td>3</td><td>0</td><td>0.0362856914045 .. 0.0301401109486</td><td>0.0 .. 0.0</td></tr>\n",
       "<tr><td>0</td><td>4</td><td>0</td><td>0.0462420745253 .. 0.0548321279313</td><td>0.0 .. 0.0</td></tr>\n",
       "<tr><td>0</td><td>5</td><td>0</td><td>0.0415924244039 .. 0.0578518133164</td><td>0.0 .. 0.0</td></tr>\n",
       "<tr><td>0</td><td>6</td><td>0</td><td>0.0515102134994 .. 0.0381329095985</td><td>0.0 .. 0.0</td></tr>\n",
       "<tr><td>0</td><td>7</td><td>0</td><td>0.048596208546 .. 0.0483828067362</td><td>0.0 .. 0.0</td></tr>\n",
       "<tr><td>0</td><td>8</td><td>0</td><td>0.0471632282672 .. 0.0605464043199</td><td>0.0 .. 0.0</td></tr>\n",
       "<tr><td>0</td><td>9</td><td>0</td><td>0.0508195399851 .. 0.0270830112128</td><td>0.0 .. 0.0</td></tr>\n",
       "<tr><td>...</td><td>...</td><td>...</td><td>...</td><td>...</td></tr>\n",
       "<tr><td>0</td><td>39</td><td>0</td><td>0.065297766668 .. 0.075512139897</td><td>0.0 .. 0.0</td></tr>\n",
       "<tr><td>0</td><td>40</td><td>0</td><td>0.0642026199121 .. 0.060807130569</td><td>0.0 .. 0.0</td></tr>\n",
       "<tr><td>0</td><td>41</td><td>0</td><td>0.0568486154187 .. 0.0491408537931</td><td>0.0 .. 0.0</td></tr>\n",
       "<tr><td>0</td><td>42</td><td>0</td><td>0.0566902429894 .. 0.0718788089833</td><td>0.0 .. 0.0</td></tr>\n",
       "<tr><td>0</td><td>43</td><td>0</td><td>0.0574044571601 .. 0.0599322854079</td><td>0.0 .. 0.0</td></tr>\n",
       "<tr><td>0</td><td>44</td><td>1</td><td>0.0684280172806 .. 0.0587323463714</td><td>0.0 .. 0.0</td></tr>\n",
       "<tr><td>0</td><td>45</td><td>1</td><td>0.0374929299602 .. 0.0685984985211</td><td>0.0 .. 0.0</td></tr>\n",
       "<tr><td>0</td><td>46</td><td>1</td><td>0.0655112361236 .. 0.0561555807121</td><td>0.0 .. 0.0</td></tr>\n",
       "<tr><td>0</td><td>47</td><td>1</td><td>0.0630328487277 .. 0.0613717341074</td><td>0.0 .. 0.0</td></tr>\n",
       "<tr><td>0</td><td>48</td><td>2</td><td>0.0514934377353 .. 0.0612610581199</td><td>0.0 .. 0.0</td></tr>\n",
       "</table>"
      ],
      "text/plain": [
       "<Table length=49>\n",
       "pixelid kidid kidtypes           bandpass [400]           lorentz [4]\n",
       " int64  int64  int64                float64                 float64  \n",
       "------- ----- -------- ---------------------------------- -----------\n",
       "      0     0        0  0.0461851887557 .. 0.037740299465  0.0 .. 0.0\n",
       "      0     1        0 0.0483083776886 .. 0.0469188614852  0.0 .. 0.0\n",
       "      0     2        0 0.0246086646002 .. 0.0372831801211  0.0 .. 0.0\n",
       "      0     3        0 0.0362856914045 .. 0.0301401109486  0.0 .. 0.0\n",
       "      0     4        0 0.0462420745253 .. 0.0548321279313  0.0 .. 0.0\n",
       "      0     5        0 0.0415924244039 .. 0.0578518133164  0.0 .. 0.0\n",
       "      0     6        0 0.0515102134994 .. 0.0381329095985  0.0 .. 0.0\n",
       "      0     7        0  0.048596208546 .. 0.0483828067362  0.0 .. 0.0\n",
       "      0     8        0 0.0471632282672 .. 0.0605464043199  0.0 .. 0.0\n",
       "      0     9        0 0.0508195399851 .. 0.0270830112128  0.0 .. 0.0\n",
       "    ...   ...      ...                                ...         ...\n",
       "      0    39        0   0.065297766668 .. 0.075512139897  0.0 .. 0.0\n",
       "      0    40        0  0.0642026199121 .. 0.060807130569  0.0 .. 0.0\n",
       "      0    41        0 0.0568486154187 .. 0.0491408537931  0.0 .. 0.0\n",
       "      0    42        0 0.0566902429894 .. 0.0718788089833  0.0 .. 0.0\n",
       "      0    43        0 0.0574044571601 .. 0.0599322854079  0.0 .. 0.0\n",
       "      0    44        1 0.0684280172806 .. 0.0587323463714  0.0 .. 0.0\n",
       "      0    45        1 0.0374929299602 .. 0.0685984985211  0.0 .. 0.0\n",
       "      0    46        1 0.0655112361236 .. 0.0561555807121  0.0 .. 0.0\n",
       "      0    47        1 0.0630328487277 .. 0.0613717341074  0.0 .. 0.0\n",
       "      0    48        2 0.0514934377353 .. 0.0612610581199  0.0 .. 0.0"
      ]
     },
     "execution_count": 17,
     "metadata": {},
     "output_type": "execute_result"
    }
   ],
   "source": [
    "table.Table(hdus['KIDSINFO'].data)"
   ]
  },
  {
   "cell_type": "code",
   "execution_count": 18,
   "metadata": {
    "collapsed": true
   },
   "outputs": [],
   "source": [
    "ddb_fitsname = 'DDB_' + hdus['PRIMARY'].header['DDB_ID'] + '.fits'\n",
    "hdus.writeto('/Users/tetsu/DESHIMA/datafile/' + ddb_fitsname)"
   ]
  },
  {
   "cell_type": "code",
   "execution_count": null,
   "metadata": {
    "collapsed": true
   },
   "outputs": [],
   "source": []
  }
 ],
 "metadata": {
  "kernelspec": {
   "display_name": "Python 3",
   "language": "python",
   "name": "python3"
  },
  "language_info": {
   "codemirror_mode": {
    "name": "ipython",
    "version": 3
   },
   "file_extension": ".py",
   "mimetype": "text/x-python",
   "name": "python",
   "nbconvert_exporter": "python",
   "pygments_lexer": "ipython3",
   "version": "3.6.1"
  }
 },
 "nbformat": 4,
 "nbformat_minor": 2
}
