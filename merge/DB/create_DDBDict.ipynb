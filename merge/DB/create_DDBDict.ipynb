{
 "cells": [
  {
   "cell_type": "markdown",
   "metadata": {},
   "source": [
    "# <font color='Red'>CREATE THE DICTIONARY FOR DDB (yaml)</font>"
   ]
  },
  {
   "cell_type": "markdown",
   "metadata": {},
   "source": [
    "## Import Modules "
   ]
  },
  {
   "cell_type": "code",
   "execution_count": null,
   "metadata": {
    "collapsed": true
   },
   "outputs": [],
   "source": [
    "import yaml"
   ]
  },
  {
   "cell_type": "markdown",
   "metadata": {},
   "source": [
    "## KIDSINFO"
   ]
  },
  {
   "cell_type": "code",
   "execution_count": null,
   "metadata": {
    "collapsed": true
   },
   "outputs": [],
   "source": [
    "hdr_key_lis = ['EXTNAME', 'FILENAME', 'KIDTYPE0', 'KIDTYPE1', 'KIDTYPE2',\n",
    "               'CTYPE3', 'CRVAL3', 'CRPIX3', 'CDELT3']\n",
    "hdr_val_lis = ['KIDSINFO', None, 'signal', 'absorber', 'blind', \n",
    "               'FREQ', 0.0, 0.0, None]\n",
    "hdr_com_lis = ['name of binary table', 'filename??', None, None, None, None, None, None, None,\n",
    "               'label for field 1', 'data format of field 1',\n",
    "               'label for field 2', 'data format of field 2',\n",
    "               'label for field 3', 'data format of field 3',\n",
    "               'label for field 4', 'data format of field 4', 'data unit of field 4',\n",
    "               'label for field 5', 'data format of field 5', 'data unit of field 5']\n",
    "cols_key_lis = ['pixelid', 'kidid', 'kidtypes', 'bandpass', 'lorentz']\n",
    "cols_data_lis = None\n",
    "tform = ['K', 'K', 'K', '400D', '4D']\n",
    "tunit = [None, None, None, 'a.u.', 'a.u.']\n",
    "\n",
    "kidsinfo_dict = {'hdr_key_lis': hdr_key_lis,\n",
    "                'hdr_val_lis': hdr_val_lis,\n",
    "                'hdr_com_lis': hdr_com_lis,\n",
    "                'cols_key_lis': cols_key_lis,\n",
    "                'cols_data_lis': cols_data_lis,\n",
    "                'tform': tform,\n",
    "                'tunit': tunit}"
   ]
  },
  {
   "cell_type": "markdown",
   "metadata": {},
   "source": [
    "## RCP"
   ]
  },
  {
   "cell_type": "code",
   "execution_count": null,
   "metadata": {
    "collapsed": true
   },
   "outputs": [],
   "source": [
    "hdr_key_lis = ['EXTNAME', 'FILENAME']\n",
    "hdr_val_lis = ['RCP', None]\n",
    "hdr_com_lis = ['name of binary table', 'filename??',\n",
    "                'label for field 1', 'data format of field 1',\n",
    "                'label for field 2', 'data format of field 2',\n",
    "                'label for field 3', 'data format of field 3', 'data unit of field 3',\n",
    "                'label for field 4', 'data format of field 4', 'data unit of field 4']\n",
    "cols_key_lis = ['pixelid', 'offsetaz', 'offsetel', 'gain']\n",
    "cols_data_lis = None\n",
    "tform = ['K', 'D', 'D', 'D']\n",
    "tunit = [None, 'deg', 'deg', '1']\n",
    "\n",
    "rcp_dict = {'hdr_key_lis': hdr_key_lis,\n",
    "            'hdr_val_lis': hdr_val_lis,\n",
    "            'hdr_com_lis': hdr_com_lis,\n",
    "            'cols_key_lis': cols_key_lis,\n",
    "            'cols_data_lis': cols_data_lis,\n",
    "            'tform': tform,\n",
    "            'tunit': tunit}"
   ]
  },
  {
   "cell_type": "code",
   "execution_count": null,
   "metadata": {
    "collapsed": true
   },
   "outputs": [],
   "source": [
    "dfits_dict = {'kidsinfo_dict': kidsinfo_dict, 'rcp_dict': rcp_dict}"
   ]
  },
  {
   "cell_type": "code",
   "execution_count": null,
   "metadata": {
    "collapsed": true
   },
   "outputs": [],
   "source": [
    "with open('~/DESHIMA/datafile/DDB_dict.yaml', 'w') as f:\n",
    "    f.write(yaml.dump(dfits_dict))"
   ]
  },
  {
   "cell_type": "code",
   "execution_count": null,
   "metadata": {
    "collapsed": true
   },
   "outputs": [],
   "source": []
  }
 ],
 "metadata": {
  "kernelspec": {
   "display_name": "Python 3",
   "language": "python",
   "name": "python3"
  },
  "language_info": {
   "codemirror_mode": {
    "name": "ipython",
    "version": 3
   },
   "file_extension": ".py",
   "mimetype": "text/x-python",
   "name": "python",
   "nbconvert_exporter": "python",
   "pygments_lexer": "ipython3",
   "version": "3.6.1"
  }
 },
 "nbformat": 4,
 "nbformat_minor": 2
}
