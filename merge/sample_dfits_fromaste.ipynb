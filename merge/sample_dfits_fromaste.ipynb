{
 "cells": [
  {
   "cell_type": "markdown",
   "metadata": {},
   "source": [
    "# <font color='Red'>merge_dfits.py (dfits_fromaset) SAMPLE</font>"
   ]
  },
  {
   "cell_type": "markdown",
   "metadata": {},
   "source": [
    "## Import Modules"
   ]
  },
  {
   "cell_type": "code",
   "execution_count": 1,
   "metadata": {},
   "outputs": [],
   "source": [
    "from merge_dfits import dfits_fromaste\n",
    "from astropy import table\n",
    "from astropy.io import fits"
   ]
  },
  {
   "cell_type": "markdown",
   "metadata": {},
   "source": [
    "## Execute \"dfits_fromaste\""
   ]
  },
  {
   "cell_type": "code",
   "execution_count": 2,
   "metadata": {
    "collapsed": true
   },
   "outputs": [],
   "source": [
    "dfits_hdus = dfits_fromaste(ddb_fits='~/DESHIMA/devtools/merge/DB/DDB_20171022210533.fits',\n",
    "                            obsinst='/Users/tetsu/DESHIMA/cosmos_20171019191052/20171019191052.obs',                            \n",
    "                            antennalog='/Users/tetsu/DESHIMA/cosmos_20171019191052/20171019191052.ant',\n",
    "                            rout_data='/Users/tetsu/DESHIMA/cosmos_20171019191052/20171019191052.fits',\n",
    "                            weatherlog='/Users/tetsu/DESHIMA/cosmos_20171019191052/20171019191052.wea')"
   ]
  },
  {
   "cell_type": "markdown",
   "metadata": {},
   "source": [
    "## Write DFITS HDUs to FITS File"
   ]
  },
  {
   "cell_type": "code",
   "execution_count": 15,
   "metadata": {},
   "outputs": [],
   "source": [
    "filename = 'dfits_20171019191052.fits'\n",
    "dfits_hdus.writeto(filename)"
   ]
  },
  {
   "cell_type": "markdown",
   "metadata": {},
   "source": [
    "## DFITS Information "
   ]
  },
  {
   "cell_type": "code",
   "execution_count": 3,
   "metadata": {
    "scrolled": false
   },
   "outputs": [
    {
     "name": "stdout",
     "output_type": "stream",
     "text": [
      "Filename: (No file associated with this HDUList)\n",
      "No.    Name         Type      Cards   Dimensions   Format\n",
      "  0  PRIMARY     PrimaryHDU       4   ()      \n",
      "  1  OBSINFO     BinTableHDU     49   1R x 10C   ['K', 'D', 'D', 'D', 'D', 'D', 'D', '113K', '113K', '113D']   \n",
      "  2  ANTENNA     BinTableHDU     32   4851R x 8C   ['26A', '4A', 'D', 'D', 'D', 'D', 'D', 'D']   \n",
      "  3  READOUT     BinTableHDU     16   54738R x 3C   ['26A', 'K', '113D']   \n",
      "  4  WEATHER     BinTableHDU     27   50R x 6C   ['19A', 'D', 'D', 'D', 'D', 'D']   \n"
     ]
    }
   ],
   "source": [
    "dfits_hdus.info()"
   ]
  },
  {
   "cell_type": "markdown",
   "metadata": {},
   "source": [
    "## OBSINFO"
   ]
  },
  {
   "cell_type": "code",
   "execution_count": 4,
   "metadata": {},
   "outputs": [
    {
     "data": {
      "text/plain": [
       "XTENSION= 'BINTABLE'           / binary table extension                         \n",
       "BITPIX  =                    8 / array data type                                \n",
       "NAXIS   =                    2 / number of array dimensions                     \n",
       "NAXIS1  =                 2768 / length of dimension 1                          \n",
       "NAXIS2  =                    1 / length of dimension 2                          \n",
       "PCOUNT  =                    0 / number of group parameters                     \n",
       "GCOUNT  =                    1 / number of groups                               \n",
       "TFIELDS =                   10 / number of table fields                         \n",
       "EXTNAME = 'OBSINFO '           / name of binary table                           \n",
       "FITSTYPE= 'DESHIMAFITSv0'      / declares DESHIMA FITS                          \n",
       "DDB_ID  = '20171022210533'     / the ID of DESHIMA database                     \n",
       "TELESCOP= 'ASTE    '           / name of used telecsope                         \n",
       "SITELON =   -67.70330423611111 / site longitude in units of deg                 \n",
       "SITELAT =   -22.97158179722222 / site latitude in units of deg                  \n",
       "DATE-OBS= '2017-10-19T19:10:54' / YYYY-mm-ddTHH:MM:SS                           \n",
       "OBSERVER= 'clumsy  '           / name of observer                               \n",
       "OBJECT  = 'SATURN  '           / name of observed object                        \n",
       "RA      =                    0 / right ascension of the object in units of deg  \n",
       "DEC     =                    0 / declination of the object in units of deg      \n",
       "EQUINOX = '2000    '           / equinox of coordinates                         \n",
       "KIDTYPE0= 'signal  '                                                            \n",
       "KIDTYPE1= 'absorber'                                                            \n",
       "KIDTYPE2= 'blind   '                                                            \n",
       "TTYPE1  = 'pixelid '           / label for field 1                              \n",
       "TFORM1  = 'K       '           / data format of field 1                         \n",
       "TTYPE2  = 'offsetaz'           / label for field 2                              \n",
       "TFORM2  = 'D       '           / data format of field 2                         \n",
       "TUNIT2  = 'deg     '           / data unit of field 2                           \n",
       "TTYPE3  = 'offsetel'           / label for field 3                              \n",
       "TFORM3  = 'D       '           / data format of field 3                         \n",
       "TUNIT3  = 'deg     '           / data unit of field 3                           \n",
       "TTYPE4  = 'interval'           / label for field 4                              \n",
       "TFORM4  = 'D       '           / data format of field 4                         \n",
       "TUNIT4  = 's       '           / data unit of field 4                           \n",
       "TTYPE5  = 'integtime'          / label for field 5                              \n",
       "TFORM5  = 'D       '           / data format of field 5                         \n",
       "TUNIT5  = 's       '           / data unit of field 5                           \n",
       "TTYPE6  = 'beamsize'           / label for field 6                              \n",
       "TFORM6  = 'D       '           / data format of field 6                         \n",
       "TUNIT6  = 'deg     '           / data unit of field 6                           \n",
       "TTYPE7  = 'gain    '           / label for field 7                              \n",
       "TFORM7  = 'D       '           / data format of field 7                         \n",
       "TUNIT7  = '1       '           / data unit of field 7                           \n",
       "TTYPE8  = 'kidids  '           / label for field 8                              \n",
       "TFORM8  = '113K    '           / data format of field 8                         \n",
       "TTYPE9  = 'kidtypes'           / label for field 9                              \n",
       "TFORM9  = '113K    '           / data format of field 9                         \n",
       "TTYPE10 = 'kidfreqs'           / label for field 10                             \n",
       "TFORM10 = '113D    '           / data format of field 10                        "
      ]
     },
     "execution_count": 4,
     "metadata": {},
     "output_type": "execute_result"
    }
   ],
   "source": [
    "dfits_hdus['OBSINFO'].header"
   ]
  },
  {
   "cell_type": "code",
   "execution_count": 5,
   "metadata": {},
   "outputs": [
    {
     "data": {
      "text/html": [
       "&lt;Table length=1&gt;\n",
       "<table id=\"table4495122672\" class=\"table-striped table-bordered table-condensed\">\n",
       "<thead><tr><th>pixelid</th><th>offsetaz</th><th>offsetel</th><th>interval</th><th>integtime</th><th>beamsize</th><th>gain</th><th>kidids [113]</th><th>kidtypes [113]</th><th>kidfreqs [113]</th></tr></thead>\n",
       "<thead><tr><th>int64</th><th>float64</th><th>float64</th><th>float64</th><th>float64</th><th>float64</th><th>float64</th><th>int64</th><th>int64</th><th>float64</th></tr></thead>\n",
       "<tr><td>0</td><td>0.0</td><td>0.0</td><td>0.00510204081633</td><td>0.00510204081633</td><td>0.005</td><td>1.0</td><td>0 .. 112</td><td>0 .. 0</td><td>320000000000.0 .. 376000000000.0</td></tr>\n",
       "</table>"
      ],
      "text/plain": [
       "<Table length=1>\n",
       "pixelid offsetaz offsetel ... kidtypes [113]          kidfreqs [113]         \n",
       " int64  float64  float64  ...     int64                  float64             \n",
       "------- -------- -------- ... -------------- --------------------------------\n",
       "      0      0.0      0.0 ...         0 .. 0 320000000000.0 .. 376000000000.0"
      ]
     },
     "execution_count": 5,
     "metadata": {},
     "output_type": "execute_result"
    }
   ],
   "source": [
    "table.Table(dfits_hdus['OBSINFO'].data)"
   ]
  },
  {
   "cell_type": "markdown",
   "metadata": {
    "collapsed": true
   },
   "source": [
    "## ANTENNA"
   ]
  },
  {
   "cell_type": "code",
   "execution_count": 7,
   "metadata": {},
   "outputs": [
    {
     "data": {
      "text/plain": [
       "XTENSION= 'BINTABLE'           / binary table extension                         \n",
       "BITPIX  =                    8 / array data type                                \n",
       "NAXIS   =                    2 / number of array dimensions                     \n",
       "NAXIS1  =                   78 / length of dimension 1                          \n",
       "NAXIS2  =                 4851 / length of dimension 2                          \n",
       "PCOUNT  =                    0 / number of group parameters                     \n",
       "GCOUNT  =                    1 / number of groups                               \n",
       "TFIELDS =                    8 / number of table fields                         \n",
       "EXTNAME = 'ANTENNA '           / name of binary table                           \n",
       "FILENAME= '20171019191052.ant' / filename??                                     \n",
       "TTYPE1  = 'time    '           / label for field 1                              \n",
       "TFORM1  = '26A     '           / data format of field 1                         \n",
       "TTYPE2  = 'scantype'           / label for field 2                              \n",
       "TFORM2  = '4A      '           / data format of field 2                         \n",
       "TTYPE3  = 'az      '           / label for field 3                              \n",
       "TFORM3  = 'D       '           / data format of field 3                         \n",
       "TUNIT3  = 'deg     '           / data unit of field 3                           \n",
       "TTYPE4  = 'el      '           / label for field 4                              \n",
       "TFORM4  = 'D       '           / data format of field 4                         \n",
       "TUNIT4  = 'deg     '           / data unit of field 4                           \n",
       "TTYPE5  = 'ra      '           / label for field 5                              \n",
       "TFORM5  = 'D       '           / data format of field 5                         \n",
       "TUNIT5  = 'deg     '           / data unit of field 5                           \n",
       "TTYPE6  = 'dec     '           / label for field 6                              \n",
       "TFORM6  = 'D       '           / data format of field 6                         \n",
       "TUNIT6  = 'deg     '           / data unit of field 6                           \n",
       "TTYPE7  = 'az_center'          / label for field 7                              \n",
       "TFORM7  = 'D       '           / data format of field 7                         \n",
       "TUNIT7  = 'deg     '           / data unit of field 7                           \n",
       "TTYPE8  = 'el_center'          / label for field 8                              \n",
       "TFORM8  = 'D       '           / data format of field 8                         \n",
       "TUNIT8  = 'deg     '           / data unit of field 8                           "
      ]
     },
     "execution_count": 7,
     "metadata": {},
     "output_type": "execute_result"
    }
   ],
   "source": [
    "dfits_hdus['ANTENNA'].header"
   ]
  },
  {
   "cell_type": "code",
   "execution_count": 8,
   "metadata": {},
   "outputs": [
    {
     "data": {
      "text/html": [
       "&lt;Table length=4851&gt;\n",
       "<table id=\"table4495124912\" class=\"table-striped table-bordered table-condensed\">\n",
       "<thead><tr><th>time</th><th>scantype</th><th>az</th><th>el</th><th>ra</th><th>dec</th><th>az_center</th><th>el_center</th></tr></thead>\n",
       "<thead><tr><th>str26</th><th>str4</th><th>float64</th><th>float64</th><th>float64</th><th>float64</th><th>float64</th><th>float64</th></tr></thead>\n",
       "<tr><td>2017-10-19T19:10:54.900000</td><td>GRAD</td><td>179.35395</td><td>60.94366</td><td>262.76092</td><td>-22.2502</td><td>89.79484</td><td>76.55569</td></tr>\n",
       "<tr><td>2017-10-19T19:10:55.000000</td><td>GRAD</td><td>179.20118</td><td>61.24571</td><td>262.76092</td><td>-22.2502</td><td>89.79467</td><td>76.55607</td></tr>\n",
       "<tr><td>2017-10-19T19:10:55.100000</td><td>GRAD</td><td>179.05291</td><td>61.54666</td><td>262.76093</td><td>-22.2502</td><td>89.7945</td><td>76.55646</td></tr>\n",
       "<tr><td>2017-10-19T19:10:55.200000</td><td>GRAD</td><td>178.90135</td><td>61.85159</td><td>262.76093</td><td>-22.2502</td><td>89.79434</td><td>76.55684</td></tr>\n",
       "<tr><td>2017-10-19T19:10:55.300000</td><td>GRAD</td><td>178.75139</td><td>62.15276</td><td>262.76093</td><td>-22.2502</td><td>89.79417</td><td>76.55722</td></tr>\n",
       "<tr><td>2017-10-19T19:10:55.400000</td><td>GRAD</td><td>178.60045</td><td>62.45405</td><td>262.76093</td><td>-22.2502</td><td>89.794</td><td>76.55761</td></tr>\n",
       "<tr><td>2017-10-19T19:10:55.500000</td><td>GRAD</td><td>178.45056</td><td>62.75587</td><td>262.76093</td><td>-22.2502</td><td>89.79383</td><td>76.55799</td></tr>\n",
       "<tr><td>2017-10-19T19:10:55.600000</td><td>GRAD</td><td>178.30049</td><td>63.05633</td><td>262.76093</td><td>-22.2502</td><td>89.79366</td><td>76.55838</td></tr>\n",
       "<tr><td>2017-10-19T19:10:55.700000</td><td>GRAD</td><td>178.15012</td><td>63.35933</td><td>262.76093</td><td>-22.2502</td><td>89.79349</td><td>76.55876</td></tr>\n",
       "<tr><td>2017-10-19T19:10:55.800000</td><td>GRAD</td><td>178.00053</td><td>63.66285</td><td>262.76093</td><td>-22.2502</td><td>89.79332</td><td>76.55915</td></tr>\n",
       "<tr><td>...</td><td>...</td><td>...</td><td>...</td><td>...</td><td>...</td><td>...</td><td>...</td></tr>\n",
       "<tr><td>2017-10-19T19:19:06.600000</td><td>GRAD</td><td>88.93556</td><td>78.39592</td><td>262.76142</td><td>-22.25024</td><td>88.8959</td><td>78.44655</td></tr>\n",
       "<tr><td>2017-10-19T19:19:06.700000</td><td>GRAD</td><td>88.93539</td><td>78.39628</td><td>262.76142</td><td>-22.25024</td><td>88.8957</td><td>78.44693</td></tr>\n",
       "<tr><td>2017-10-19T19:19:06.800000</td><td>GRAD</td><td>88.93502</td><td>78.39676</td><td>262.76142</td><td>-22.25024</td><td>88.8955</td><td>78.44732</td></tr>\n",
       "<tr><td>2017-10-19T19:19:06.900000</td><td>GRAD</td><td>88.93505</td><td>78.39732</td><td>262.76142</td><td>-22.25024</td><td>88.8953</td><td>78.4477</td></tr>\n",
       "<tr><td>2017-10-19T19:19:07.000000</td><td>GRAD</td><td>88.93461</td><td>78.39753</td><td>262.76142</td><td>-22.25024</td><td>88.8951</td><td>78.44809</td></tr>\n",
       "<tr><td>2017-10-19T19:19:07.100000</td><td>GRAD</td><td>88.93448</td><td>78.39808</td><td>262.76142</td><td>-22.25024</td><td>88.8949</td><td>78.44847</td></tr>\n",
       "<tr><td>2017-10-19T19:19:07.200000</td><td>GRAD</td><td>88.9343</td><td>78.39839</td><td>262.76142</td><td>-22.25024</td><td>88.8947</td><td>78.44886</td></tr>\n",
       "<tr><td>2017-10-19T19:19:07.300000</td><td>GRAD</td><td>88.93391</td><td>78.39877</td><td>262.76142</td><td>-22.25024</td><td>88.8945</td><td>78.44924</td></tr>\n",
       "<tr><td>2017-10-19T19:19:07.400000</td><td>GRAD</td><td>88.93391</td><td>78.39914</td><td>262.76142</td><td>-22.25024</td><td>88.89431</td><td>78.44962</td></tr>\n",
       "<tr><td>2017-10-19T19:19:07.500000</td><td>GRAD</td><td>88.93352</td><td>78.39937</td><td>262.76142</td><td>-22.25024</td><td>88.89411</td><td>78.45001</td></tr>\n",
       "</table>"
      ],
      "text/plain": [
       "<Table length=4851>\n",
       "           time            scantype     az    ...    dec    az_center el_center\n",
       "          str26              str4    float64  ...  float64   float64   float64 \n",
       "-------------------------- -------- --------- ... --------- --------- ---------\n",
       "2017-10-19T19:10:54.900000     GRAD 179.35395 ...  -22.2502  89.79484  76.55569\n",
       "2017-10-19T19:10:55.000000     GRAD 179.20118 ...  -22.2502  89.79467  76.55607\n",
       "2017-10-19T19:10:55.100000     GRAD 179.05291 ...  -22.2502   89.7945  76.55646\n",
       "2017-10-19T19:10:55.200000     GRAD 178.90135 ...  -22.2502  89.79434  76.55684\n",
       "2017-10-19T19:10:55.300000     GRAD 178.75139 ...  -22.2502  89.79417  76.55722\n",
       "2017-10-19T19:10:55.400000     GRAD 178.60045 ...  -22.2502    89.794  76.55761\n",
       "2017-10-19T19:10:55.500000     GRAD 178.45056 ...  -22.2502  89.79383  76.55799\n",
       "2017-10-19T19:10:55.600000     GRAD 178.30049 ...  -22.2502  89.79366  76.55838\n",
       "2017-10-19T19:10:55.700000     GRAD 178.15012 ...  -22.2502  89.79349  76.55876\n",
       "2017-10-19T19:10:55.800000     GRAD 178.00053 ...  -22.2502  89.79332  76.55915\n",
       "                       ...      ...       ... ...       ...       ...       ...\n",
       "2017-10-19T19:19:06.600000     GRAD  88.93556 ... -22.25024   88.8959  78.44655\n",
       "2017-10-19T19:19:06.700000     GRAD  88.93539 ... -22.25024   88.8957  78.44693\n",
       "2017-10-19T19:19:06.800000     GRAD  88.93502 ... -22.25024   88.8955  78.44732\n",
       "2017-10-19T19:19:06.900000     GRAD  88.93505 ... -22.25024   88.8953   78.4477\n",
       "2017-10-19T19:19:07.000000     GRAD  88.93461 ... -22.25024   88.8951  78.44809\n",
       "2017-10-19T19:19:07.100000     GRAD  88.93448 ... -22.25024   88.8949  78.44847\n",
       "2017-10-19T19:19:07.200000     GRAD   88.9343 ... -22.25024   88.8947  78.44886\n",
       "2017-10-19T19:19:07.300000     GRAD  88.93391 ... -22.25024   88.8945  78.44924\n",
       "2017-10-19T19:19:07.400000     GRAD  88.93391 ... -22.25024  88.89431  78.44962\n",
       "2017-10-19T19:19:07.500000     GRAD  88.93352 ... -22.25024  88.89411  78.45001"
      ]
     },
     "execution_count": 8,
     "metadata": {},
     "output_type": "execute_result"
    }
   ],
   "source": [
    "table.Table(dfits_hdus['ANTENNA'].data)"
   ]
  },
  {
   "cell_type": "markdown",
   "metadata": {},
   "source": [
    "## READOUT"
   ]
  },
  {
   "cell_type": "code",
   "execution_count": 9,
   "metadata": {
    "scrolled": true
   },
   "outputs": [
    {
     "data": {
      "text/plain": [
       "XTENSION= 'BINTABLE'           / binary table extension                         \n",
       "BITPIX  =                    8 / array data type                                \n",
       "NAXIS   =                    2 / number of array dimensions                     \n",
       "NAXIS1  =                  938 / length of dimension 1                          \n",
       "NAXIS2  =                54738 / length of dimension 2                          \n",
       "PCOUNT  =                    0 / number of group parameters                     \n",
       "GCOUNT  =                    1 / number of groups                               \n",
       "TFIELDS =                    3 / number of table fields                         \n",
       "EXTNAME = 'READOUT '           / name of binary data                            \n",
       "FILENAME= '20171019191052.fits' / filename??                                    \n",
       "TTYPE1  = 'starttime'          / label for field 1                              \n",
       "TFORM1  = '26A     '           / data format of field 1                         \n",
       "TTYPE2  = 'pixelid '           / label for field 2                              \n",
       "TFORM2  = 'K       '           / data format of field 2                         \n",
       "TTYPE3  = 'arraydata'          / label for field 3                              \n",
       "TFORM3  = '113D    '           / data format of field 3                         "
      ]
     },
     "execution_count": 9,
     "metadata": {},
     "output_type": "execute_result"
    }
   ],
   "source": [
    "dfits_hdus['READOUT'].header"
   ]
  },
  {
   "cell_type": "code",
   "execution_count": 10,
   "metadata": {
    "scrolled": false
   },
   "outputs": [
    {
     "data": {
      "text/html": [
       "&lt;Table length=54738&gt;\n",
       "<table id=\"table4484177200\" class=\"table-striped table-bordered table-condensed\">\n",
       "<thead><tr><th>starttime</th><th>pixelid</th><th>arraydata [113]</th></tr></thead>\n",
       "<thead><tr><th>str26</th><th>int64</th><th>float64</th></tr></thead>\n",
       "<tr><td>2017-10-19T19:13:24.374611</td><td>0</td><td>0.609901746535 .. -0.255379652784</td></tr>\n",
       "<tr><td>2017-10-19T19:13:24.380941</td><td>0</td><td>0.610320114576 .. -0.255426910494</td></tr>\n",
       "<tr><td>2017-10-19T19:13:24.387204</td><td>0</td><td>0.609901746535 .. -0.255429014945</td></tr>\n",
       "<tr><td>2017-10-19T19:13:24.393495</td><td>0</td><td>0.61004151136 .. -0.255369407534</td></tr>\n",
       "<tr><td>2017-10-19T19:13:24.399779</td><td>0</td><td>0.609595579842 .. -0.255322141247</td></tr>\n",
       "<tr><td>2017-10-19T19:13:24.406078</td><td>0</td><td>0.610362185583 .. -0.255426910494</td></tr>\n",
       "<tr><td>2017-10-19T19:13:24.412369</td><td>0</td><td>0.609664304687 .. -0.255239939136</td></tr>\n",
       "<tr><td>2017-10-19T19:13:24.418661</td><td>0</td><td>0.608731629279 .. -0.255379652784</td></tr>\n",
       "<tr><td>2017-10-19T19:13:24.424952</td><td>0</td><td>0.609455902267 .. -0.255511199396</td></tr>\n",
       "<tr><td>2017-10-19T19:13:24.431244</td><td>0</td><td>0.610110743337 .. -0.255429014945</td></tr>\n",
       "<tr><td>...</td><td>...</td><td>...</td></tr>\n",
       "<tr><td>2017-10-19T19:19:08.693479</td><td>0</td><td>0.606607927425 .. -0.251691322465</td></tr>\n",
       "<tr><td>2017-10-19T19:19:08.699771</td><td>0</td><td>0.606715124871 .. -0.251691322465</td></tr>\n",
       "<tr><td>2017-10-19T19:19:08.706040</td><td>0</td><td>0.606907031581 .. -0.251714281891</td></tr>\n",
       "<tr><td>2017-10-19T19:19:08.712347</td><td>0</td><td>0.606638906175 .. -0.25166701191</td></tr>\n",
       "<tr><td>2017-10-19T19:19:08.718645</td><td>0</td><td>0.607333341907 .. -0.251785869625</td></tr>\n",
       "<tr><td>2017-10-19T19:19:08.724937</td><td>0</td><td>0.606907031581 .. -0.251514363005</td></tr>\n",
       "<tr><td>2017-10-19T19:19:08.731205</td><td>0</td><td>0.606746036633 .. -0.251573795733</td></tr>\n",
       "<tr><td>2017-10-19T19:19:08.737490</td><td>0</td><td>0.60655438851 .. -0.251737236417</td></tr>\n",
       "<tr><td>2017-10-19T19:19:08.743790</td><td>0</td><td>0.607225620381 .. -0.251654858355</td></tr>\n",
       "<tr><td>2017-10-19T19:19:08.750087</td><td>0</td><td>0.606895568528 .. -0.251656202076</td></tr>\n",
       "</table>"
      ],
      "text/plain": [
       "<Table length=54738>\n",
       "        starttime          pixelid          arraydata [113]         \n",
       "          str26             int64               float64             \n",
       "-------------------------- ------- ---------------------------------\n",
       "2017-10-19T19:13:24.374611       0 0.609901746535 .. -0.255379652784\n",
       "2017-10-19T19:13:24.380941       0 0.610320114576 .. -0.255426910494\n",
       "2017-10-19T19:13:24.387204       0 0.609901746535 .. -0.255429014945\n",
       "2017-10-19T19:13:24.393495       0  0.61004151136 .. -0.255369407534\n",
       "2017-10-19T19:13:24.399779       0 0.609595579842 .. -0.255322141247\n",
       "2017-10-19T19:13:24.406078       0 0.610362185583 .. -0.255426910494\n",
       "2017-10-19T19:13:24.412369       0 0.609664304687 .. -0.255239939136\n",
       "2017-10-19T19:13:24.418661       0 0.608731629279 .. -0.255379652784\n",
       "2017-10-19T19:13:24.424952       0 0.609455902267 .. -0.255511199396\n",
       "2017-10-19T19:13:24.431244       0 0.610110743337 .. -0.255429014945\n",
       "                       ...     ...                               ...\n",
       "2017-10-19T19:19:08.693479       0 0.606607927425 .. -0.251691322465\n",
       "2017-10-19T19:19:08.699771       0 0.606715124871 .. -0.251691322465\n",
       "2017-10-19T19:19:08.706040       0 0.606907031581 .. -0.251714281891\n",
       "2017-10-19T19:19:08.712347       0  0.606638906175 .. -0.25166701191\n",
       "2017-10-19T19:19:08.718645       0 0.607333341907 .. -0.251785869625\n",
       "2017-10-19T19:19:08.724937       0 0.606907031581 .. -0.251514363005\n",
       "2017-10-19T19:19:08.731205       0 0.606746036633 .. -0.251573795733\n",
       "2017-10-19T19:19:08.737490       0  0.60655438851 .. -0.251737236417\n",
       "2017-10-19T19:19:08.743790       0 0.607225620381 .. -0.251654858355\n",
       "2017-10-19T19:19:08.750087       0 0.606895568528 .. -0.251656202076"
      ]
     },
     "execution_count": 10,
     "metadata": {},
     "output_type": "execute_result"
    }
   ],
   "source": [
    "table.Table(dfits_hdus['READOUT'].data)"
   ]
  },
  {
   "cell_type": "markdown",
   "metadata": {},
   "source": [
    "## WEATHER"
   ]
  },
  {
   "cell_type": "code",
   "execution_count": 11,
   "metadata": {},
   "outputs": [
    {
     "data": {
      "text/plain": [
       "XTENSION= 'BINTABLE'           / binary table extension                         \n",
       "BITPIX  =                    8 / array data type                                \n",
       "NAXIS   =                    2 / number of array dimensions                     \n",
       "NAXIS1  =                   59 / length of dimension 1                          \n",
       "NAXIS2  =                   50 / length of dimension 2                          \n",
       "PCOUNT  =                    0 / number of group parameters                     \n",
       "GCOUNT  =                    1 / number of groups                               \n",
       "TFIELDS =                    6 / number of table fields                         \n",
       "EXTNAME = 'WEATHER '           / name of binary table                           \n",
       "FILENAME= '20171019191052.wea' / filename??                                     \n",
       "TTYPE1  = 'time    '           / label for field 1                              \n",
       "TFORM1  = '19A     '           / data format of field 1                         \n",
       "TTYPE2  = 'temperature'        / label for field 2                              \n",
       "TFORM2  = 'D       '           / data format of field 2                         \n",
       "TUNIT2  = 'deg_C   '           / data unit of field 2                           \n",
       "TTYPE3  = 'pressure'           / label for field 3                              \n",
       "TFORM3  = 'D       '           / data format of field 3                         \n",
       "TUNIT3  = 'hPa     '           / data unit of field 3                           \n",
       "TTYPE4  = 'vapor-pressure'     / label for field 4                              \n",
       "TFORM4  = 'D       '           / data format of field 4                         \n",
       "TUNIT4  = 'hPa     '           / data unit of field 4                           \n",
       "TTYPE5  = 'windspd '           / label for field 5                              \n",
       "TFORM5  = 'D       '           / data format of field 5                         \n",
       "TUNIT5  = 'm/s     '           / data unit of field 5                           \n",
       "TTYPE6  = 'winddir '           / label for field 6                              \n",
       "TFORM6  = 'D       '           / data format of field 6                         \n",
       "TUNIT6  = 'deg     '           / data unit of field 6                           "
      ]
     },
     "execution_count": 11,
     "metadata": {},
     "output_type": "execute_result"
    }
   ],
   "source": [
    "dfits_hdus['WEATHER'].header"
   ]
  },
  {
   "cell_type": "code",
   "execution_count": 12,
   "metadata": {},
   "outputs": [
    {
     "data": {
      "text/html": [
       "&lt;Table length=50&gt;\n",
       "<table id=\"table4484177144\" class=\"table-striped table-bordered table-condensed\">\n",
       "<thead><tr><th>time</th><th>temperature</th><th>pressure</th><th>vapor-pressure</th><th>windspd</th><th>winddir</th></tr></thead>\n",
       "<thead><tr><th>str19</th><th>float64</th><th>float64</th><th>float64</th><th>float64</th><th>float64</th></tr></thead>\n",
       "<tr><td>2017-10-19T19:10:55</td><td>8.48</td><td>571.32</td><td>1.119</td><td>11.0</td><td>277.0</td></tr>\n",
       "<tr><td>2017-10-19T19:11:05</td><td>8.48</td><td>571.32</td><td>1.119</td><td>11.0</td><td>277.0</td></tr>\n",
       "<tr><td>2017-10-19T19:11:15</td><td>8.46</td><td>571.36</td><td>1.131</td><td>8.59</td><td>251.0</td></tr>\n",
       "<tr><td>2017-10-19T19:11:25</td><td>8.45</td><td>571.39</td><td>1.132</td><td>7.73</td><td>263.0</td></tr>\n",
       "<tr><td>2017-10-19T19:11:35</td><td>8.42</td><td>571.37</td><td>1.131</td><td>8.04</td><td>260.0</td></tr>\n",
       "<tr><td>2017-10-19T19:11:45</td><td>8.4</td><td>571.37</td><td>1.123</td><td>7.93</td><td>262.0</td></tr>\n",
       "<tr><td>2017-10-19T19:11:55</td><td>8.4</td><td>571.37</td><td>1.123</td><td>7.93</td><td>262.0</td></tr>\n",
       "<tr><td>2017-10-19T19:12:05</td><td>8.38</td><td>571.39</td><td>1.111</td><td>13.18</td><td>293.0</td></tr>\n",
       "<tr><td>2017-10-19T19:12:15</td><td>8.36</td><td>571.37</td><td>1.104</td><td>9.17</td><td>303.0</td></tr>\n",
       "<tr><td>2017-10-19T19:12:25</td><td>8.34</td><td>571.36</td><td>1.092</td><td>11.42</td><td>301.0</td></tr>\n",
       "<tr><td>...</td><td>...</td><td>...</td><td>...</td><td>...</td><td>...</td></tr>\n",
       "<tr><td>2017-10-19T19:17:35</td><td>8.55</td><td>571.3</td><td>1.064</td><td>11.45</td><td>277.0</td></tr>\n",
       "<tr><td>2017-10-19T19:17:45</td><td>8.53</td><td>571.37</td><td>1.068</td><td>11.97</td><td>295.0</td></tr>\n",
       "<tr><td>2017-10-19T19:17:55</td><td>8.53</td><td>571.38</td><td>1.081</td><td>12.61</td><td>283.0</td></tr>\n",
       "<tr><td>2017-10-19T19:18:05</td><td>8.53</td><td>571.38</td><td>1.081</td><td>12.61</td><td>283.0</td></tr>\n",
       "<tr><td>2017-10-19T19:18:15</td><td>8.52</td><td>571.36</td><td>1.089</td><td>9.1</td><td>288.0</td></tr>\n",
       "<tr><td>2017-10-19T19:18:25</td><td>8.52</td><td>571.32</td><td>1.085</td><td>8.06</td><td>284.0</td></tr>\n",
       "<tr><td>2017-10-19T19:18:35</td><td>8.48</td><td>571.43</td><td>1.084</td><td>6.97</td><td>268.0</td></tr>\n",
       "<tr><td>2017-10-19T19:18:45</td><td>8.48</td><td>571.43</td><td>1.084</td><td>6.97</td><td>268.0</td></tr>\n",
       "<tr><td>2017-10-19T19:18:55</td><td>8.46</td><td>571.39</td><td>1.095</td><td>8.75</td><td>254.0</td></tr>\n",
       "<tr><td>2017-10-19T19:19:05</td><td>8.43</td><td>571.4</td><td>1.096</td><td>9.14</td><td>244.0</td></tr>\n",
       "</table>"
      ],
      "text/plain": [
       "<Table length=50>\n",
       "        time        temperature pressure vapor-pressure windspd winddir\n",
       "       str19          float64   float64     float64     float64 float64\n",
       "------------------- ----------- -------- -------------- ------- -------\n",
       "2017-10-19T19:10:55        8.48   571.32          1.119    11.0   277.0\n",
       "2017-10-19T19:11:05        8.48   571.32          1.119    11.0   277.0\n",
       "2017-10-19T19:11:15        8.46   571.36          1.131    8.59   251.0\n",
       "2017-10-19T19:11:25        8.45   571.39          1.132    7.73   263.0\n",
       "2017-10-19T19:11:35        8.42   571.37          1.131    8.04   260.0\n",
       "2017-10-19T19:11:45         8.4   571.37          1.123    7.93   262.0\n",
       "2017-10-19T19:11:55         8.4   571.37          1.123    7.93   262.0\n",
       "2017-10-19T19:12:05        8.38   571.39          1.111   13.18   293.0\n",
       "2017-10-19T19:12:15        8.36   571.37          1.104    9.17   303.0\n",
       "2017-10-19T19:12:25        8.34   571.36          1.092   11.42   301.0\n",
       "                ...         ...      ...            ...     ...     ...\n",
       "2017-10-19T19:17:35        8.55    571.3          1.064   11.45   277.0\n",
       "2017-10-19T19:17:45        8.53   571.37          1.068   11.97   295.0\n",
       "2017-10-19T19:17:55        8.53   571.38          1.081   12.61   283.0\n",
       "2017-10-19T19:18:05        8.53   571.38          1.081   12.61   283.0\n",
       "2017-10-19T19:18:15        8.52   571.36          1.089     9.1   288.0\n",
       "2017-10-19T19:18:25        8.52   571.32          1.085    8.06   284.0\n",
       "2017-10-19T19:18:35        8.48   571.43          1.084    6.97   268.0\n",
       "2017-10-19T19:18:45        8.48   571.43          1.084    6.97   268.0\n",
       "2017-10-19T19:18:55        8.46   571.39          1.095    8.75   254.0\n",
       "2017-10-19T19:19:05        8.43    571.4          1.096    9.14   244.0"
      ]
     },
     "execution_count": 12,
     "metadata": {},
     "output_type": "execute_result"
    }
   ],
   "source": [
    "table.Table(dfits_hdus['WEATHER'].data)"
   ]
  },
  {
   "cell_type": "code",
   "execution_count": null,
   "metadata": {
    "collapsed": true
   },
   "outputs": [],
   "source": []
  }
 ],
 "metadata": {
  "kernelspec": {
   "display_name": "Python 3",
   "language": "python",
   "name": "python3"
  },
  "language_info": {
   "codemirror_mode": {
    "name": "ipython",
    "version": 3
   },
   "file_extension": ".py",
   "mimetype": "text/x-python",
   "name": "python",
   "nbconvert_exporter": "python",
   "pygments_lexer": "ipython3",
   "version": "3.6.1"
  }
 },
 "nbformat": 4,
 "nbformat_minor": 2
}
