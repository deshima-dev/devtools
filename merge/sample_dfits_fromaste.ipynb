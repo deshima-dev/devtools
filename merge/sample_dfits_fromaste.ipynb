{
 "cells": [
  {
   "cell_type": "markdown",
   "metadata": {},
   "source": [
    "# <font color='Red'>DFITS_merge.py (dfits_fromaset) SAMPLE</font>"
   ]
  },
  {
   "cell_type": "markdown",
   "metadata": {},
   "source": [
    "## Import Modules"
   ]
  },
  {
   "cell_type": "code",
   "execution_count": 1,
   "metadata": {
    "collapsed": true
   },
   "outputs": [],
   "source": [
    "from DFITS_merge import dfits_fromaste\n",
    "from astropy import table"
   ]
  },
  {
   "cell_type": "markdown",
   "metadata": {},
   "source": [
    "## Execute \"dfits_fromaste\""
   ]
  },
  {
   "cell_type": "code",
   "execution_count": 2,
   "metadata": {},
   "outputs": [],
   "source": [
    "dfits_hdus = dfits_fromaste('~/DESHIMA/datafile/astelog_20160728113318/20160728113318.obs',\n",
    "                            '~/DESHIMA/datafile/astelog_20160728113318/20160728113318.ant',\n",
    "                            '~/DESHIMA/datafile/DDB_20171018151938.fits',\n",
    "                            '~/DESHIMA/datafile/Dummy_Sky_v01.npz',\n",
    "                            '~/DESHIMA/datafile/astelog_20160728113318/20160728113318.wea')"
   ]
  },
  {
   "cell_type": "code",
   "execution_count": 3,
   "metadata": {},
   "outputs": [
    {
     "name": "stdout",
     "output_type": "stream",
     "text": [
      "Filename: (No file associated with this HDUList)\n",
      "No.    Name         Type      Cards   Dimensions   Format\n",
      "  0  PRIMARY     PrimaryHDU       4   ()      \n",
      "  1  OBSINFO     BinTableHDU     49   1R x 10C   ['K', 'D', 'D', 'D', 'D', 'D', 'D', '49K', '49K', '49D']   \n",
      "  2  ANTENNA     BinTableHDU     32   30289R x 8C   ['26A', '4A', 'D', 'D', 'D', 'D', 'D', 'D']   \n",
      "  3  READOUT     BinTableHDU     16   96000R x 3C   ['26A', 'K', '49D']   \n",
      "  4  FILTERS     BinTableHDU     26   49R x 5C   ['K', 'K', 'K', '400D', '4D']   \n",
      "  5  WEATHER     BinTableHDU     27   310R x 6C   ['19A', 'D', 'D', 'D', 'D', 'D']   \n"
     ]
    }
   ],
   "source": [
    "dfits_hdus.info()"
   ]
  },
  {
   "cell_type": "code",
   "execution_count": 4,
   "metadata": {},
   "outputs": [
    {
     "data": {
      "text/plain": [
       "XTENSION= 'BINTABLE'           / binary table extension                         \n",
       "BITPIX  =                    8 / array data type                                \n",
       "NAXIS   =                    2 / number of array dimensions                     \n",
       "NAXIS1  =                 1232 / length of dimension 1                          \n",
       "NAXIS2  =                    1 / length of dimension 2                          \n",
       "PCOUNT  =                    0 / number of group parameters                     \n",
       "GCOUNT  =                    1 / number of groups                               \n",
       "TFIELDS =                   10 / number of table fields                         \n",
       "EXTNAME = 'OBSINFO '           / name of binary table                           \n",
       "FITSTYPE= 'DESHIMAFITSv0'      / declares DESHIMA FITS                          \n",
       "DDB_ID  = '20171018151938'     / the ID of DESHIMA database                     \n",
       "TELESCOP= 'ASTE    '           / name of used telecsope                         \n",
       "SITELON =   -67.70330423611111 / site longitude in units of deg                 \n",
       "SITELAT =   -22.97158179722222 / site latitude in units of deg                  \n",
       "DATE-OBS= '2016-07-28T11:33:21' / YYYY-mm-ddTHH:MM:SS                           \n",
       "OBSERVER= 'clumsy  '           / name of observer                               \n",
       "OBJECT  = 'URANUS  '           / name of observed object                        \n",
       "RA      =                    0 / right ascension of the object in units of deg  \n",
       "DEC     =                    0 / declination of the object in units of deg      \n",
       "EQUINOX = '2000    '           / equinox of coordinates                         \n",
       "KIDTYPE0= 'signal  '                                                            \n",
       "KIDTYPE1= 'absorber'                                                            \n",
       "KIDTYPE2= 'blind   '                                                            \n",
       "TTYPE1  = 'pixelid '           / label for field 1                              \n",
       "TFORM1  = 'K       '           / data format of field 1                         \n",
       "TTYPE2  = 'offsetaz'           / label for field 2                              \n",
       "TFORM2  = 'D       '           / data format of field 2                         \n",
       "TUNIT2  = 'deg     '           / data unit of field 2                           \n",
       "TTYPE3  = 'offsetel'           / label for field 3                              \n",
       "TFORM3  = 'D       '           / data format of field 3                         \n",
       "TUNIT3  = 'deg     '           / data unit of field 3                           \n",
       "TTYPE4  = 'interval'           / label for field 4                              \n",
       "TFORM4  = 'D       '           / data format of field 4                         \n",
       "TUNIT4  = 's       '           / data unit of field 4                           \n",
       "TTYPE5  = 'integtime'          / label for field 5                              \n",
       "TFORM5  = 'D       '           / data format of field 5                         \n",
       "TUNIT5  = 's       '           / data unit of field 5                           \n",
       "TTYPE6  = 'beamsize'           / label for field 6                              \n",
       "TFORM6  = 'D       '           / data format of field 6                         \n",
       "TUNIT6  = 'deg     '           / data unit of field 6                           \n",
       "TTYPE7  = 'gain    '           / label for field 7                              \n",
       "TFORM7  = 'D       '           / data format of field 7                         \n",
       "TUNIT7  = '1       '           / data unit of field 7                           \n",
       "TTYPE8  = 'kidids  '           / label for field 8                              \n",
       "TFORM8  = '49K     '           / data format of field 8                         \n",
       "TTYPE9  = 'kidtypes'           / label for field 9                              \n",
       "TFORM9  = '49K     '           / data format of field 9                         \n",
       "TTYPE10 = 'kidfreqs'           / label for field 10                             \n",
       "TFORM10 = '49D     '           / data format of field 10                        "
      ]
     },
     "execution_count": 4,
     "metadata": {},
     "output_type": "execute_result"
    }
   ],
   "source": [
    "dfits_hdus['OBSINFO'].header"
   ]
  },
  {
   "cell_type": "code",
   "execution_count": 5,
   "metadata": {},
   "outputs": [
    {
     "data": {
      "text/html": [
       "&lt;Table length=1&gt;\n",
       "<table id=\"table4795152872\" class=\"table-striped table-bordered table-condensed\">\n",
       "<thead><tr><th>pixelid</th><th>offsetaz</th><th>offsetel</th><th>interval</th><th>integtime</th><th>beamsize</th><th>gain</th><th>kidids [49]</th><th>kidtypes [49]</th><th>kidfreqs [49]</th></tr></thead>\n",
       "<thead><tr><th>int64</th><th>float64</th><th>float64</th><th>float64</th><th>float64</th><th>float64</th><th>float64</th><th>int64</th><th>int64</th><th>float64</th></tr></thead>\n",
       "<tr><td>0</td><td>0.0</td><td>0.0</td><td>0.00510204081633</td><td>0.00510204081633</td><td>0.0001</td><td>1.0</td><td>0 .. 48</td><td>0 .. 2</td><td>320000000000.0 .. 368000000000.0</td></tr>\n",
       "</table>"
      ],
      "text/plain": [
       "<Table length=1>\n",
       "pixelid offsetaz offsetel ... kidtypes [49]          kidfreqs [49]          \n",
       " int64  float64  float64  ...     int64                 float64             \n",
       "------- -------- -------- ... ------------- --------------------------------\n",
       "      0      0.0      0.0 ...        0 .. 2 320000000000.0 .. 368000000000.0"
      ]
     },
     "execution_count": 5,
     "metadata": {},
     "output_type": "execute_result"
    }
   ],
   "source": [
    "table.Table(dfits_hdus['OBSINFO'].data)"
   ]
  },
  {
   "cell_type": "code",
   "execution_count": null,
   "metadata": {
    "collapsed": true
   },
   "outputs": [],
   "source": []
  }
 ],
 "metadata": {
  "kernelspec": {
   "display_name": "Python 3",
   "language": "python",
   "name": "python3"
  },
  "language_info": {
   "codemirror_mode": {
    "name": "ipython",
    "version": 3
   },
   "file_extension": ".py",
   "mimetype": "text/x-python",
   "name": "python",
   "nbconvert_exporter": "python",
   "pygments_lexer": "ipython3",
   "version": "3.6.1"
  }
 },
 "nbformat": 4,
 "nbformat_minor": 2
}
