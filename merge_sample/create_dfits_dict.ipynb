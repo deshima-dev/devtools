{
 "cells": [
  {
   "cell_type": "markdown",
   "metadata": {},
   "source": [
    "# <font color='red'>Create the Dictionary for DFITS</font>"
   ]
  },
  {
   "cell_type": "markdown",
   "metadata": {},
   "source": [
    "## Import Modules"
   ]
  },
  {
   "cell_type": "code",
   "execution_count": null,
   "metadata": {
    "collapsed": true
   },
   "outputs": [],
   "source": [
    "from collections import OrderedDict\n",
    "import yaml"
   ]
  },
  {
   "cell_type": "markdown",
   "metadata": {},
   "source": [
    "## OBSINFO"
   ]
  },
  {
   "cell_type": "code",
   "execution_count": null,
   "metadata": {},
   "outputs": [],
   "source": [
    "hdr_vals = OrderedDict([('EXTNAME', 'OBSINFO'), ('FITSTYPE', 'DESHIMAv0'), ('DDBID', None),\n",
    "                        ('TELESCOP', None), ('SITELON', None), ('SITELAT', None),\n",
    "                        ('DATE-OBS', None), ('OBSERVER', None), ('OBJECT', None),\n",
    "                        ('RA', None), ('DEC', None), ('EQUINOX', None), ('KIDTYPE0', 'wideband'),\n",
    "                        ('KIDTYPE1', 'filter'), ('KIDTYPE2', 'blind')])\n",
    "hdr_coms = {'EXTNAME': 'name of binary table',\n",
    "            'FITSTYPE': 'declares DESHIMA FITS',\n",
    "            'DDBID': 'ID of DESHIMA database',\n",
    "            'TELESCOP': 'name of used telescope',\n",
    "            'SITELON': 'site longitude in units of deg',\n",
    "            'SITELAT': 'site latitude in units of deg',\n",
    "            'DATE-OBS': 'YYYY-mm-ddTHH:MM:SS',\n",
    "            'OBSERVER': 'name of observer',\n",
    "            'OBJECT': 'name of observed object',\n",
    "            'RA': 'right ascension of the object in units of dec',\n",
    "            'DEC': 'declination of the object in units of deg',\n",
    "            'EQUINOX': 'equinox of coordinates',\n",
    "            'KIDTYPE0': '0 is the kid of \"wideband\"',\n",
    "            'KIDTYPE1': '1 is the kid of \"filter\"',\n",
    "            'KIDTYPE2': '2 is the kid of \"blind\"',\n",
    "            'TTYPE1': 'label for field 1',\n",
    "            'TFORM1': 'data format of field 1',\n",
    "            'TTYPE2': 'label for field 2',\n",
    "            'TFORM2': 'data format of field 2',\n",
    "            'TUNIT2': 'data unit of field 2',\n",
    "            'TTYPE3': 'label for field 3',\n",
    "            'TFORM3': 'data format of field 3',\n",
    "            'TUNIT3': 'data unit of field 3',\n",
    "            'TTYPE4': 'label for field 4',\n",
    "            'TFORM4': 'data format of field 4',\n",
    "            'TUNIT4': 'data unit of field 4',\n",
    "            'TTYPE5': 'label for field 5',\n",
    "            'TFORM5': 'data format of field 5',\n",
    "            'TUNIT5': 'data unit of field 5',\n",
    "            'TTYPE6': 'label for field 6',\n",
    "            'TFORM6': 'data format of field 6',\n",
    "            'TUNIT6': 'data unit of field 6',\n",
    "            'TTYPE7': 'label for field 7',\n",
    "            'TFORM7': 'data format of field 7',\n",
    "            'TUNIT7': 'data unit of field 7',\n",
    "            'TTYPE8': 'label for field 8',\n",
    "            'TFORM8': 'data format of field 8',\n",
    "            'TTYPE9': 'label for field 9',\n",
    "            'TFORM9': 'data format of field 9',\n",
    "            'TTYPE10': 'label for field 10',\n",
    "            'TFORM10': 'data format of field 10',\n",
    "            'TTYPE11': 'label for field 11',\n",
    "            'TFORM11': 'data format of field 11',\n",
    "            'TUNIT11': 'data unit of field 11'}\n",
    "col_vals = OrderedDict([('pixelid', None), ('offsetaz', None), ('offsetel', None),\n",
    "                        ('interval', None), ('integtime', None), ('beamsize', None),\n",
    "                        ('gain', None), ('masterids', None), ('kidids', None),\n",
    "                        ('kidtypes', None), ('kidfreqs', None)])\n",
    "col_form = OrderedDict([('pixelid', 'K'), ('offsetaz', 'D'), ('offsetel', 'D'),\n",
    "                        ('interval', 'D'), ('integtime', 'D'), ('beamsize', 'D'),\n",
    "                        ('gain', 'D'), ('masterids', '63K'), ('kidids', '63K'),\n",
    "                        ('kidtypes', '63D'), ('kidfreqs', '63D')])\n",
    "col_unit = OrderedDict([('pixelid', None), ('offsetaz', 'deg'), ('offsetel', 'deg'),\n",
    "                        ('interval', 's'), ('integtime', 's'), ('beamsize', 'deg'),\n",
    "                        ('gain', '1'), ('masterids', None), ('kidids', None),\n",
    "                        ('kidtypes', None), ('kidfreqs', 'GHz')])\n",
    "\n",
    "obsinfo_dict = {'hdr_vals': hdr_vals, 'hdr_coms': hdr_coms, 'col_vals': col_vals,\n",
    "                'col_form': col_form, 'col_unit': col_unit}"
   ]
  },
  {
   "cell_type": "markdown",
   "metadata": {},
   "source": [
    "## ANTENNA"
   ]
  },
  {
   "cell_type": "code",
   "execution_count": null,
   "metadata": {
    "collapsed": true
   },
   "outputs": [],
   "source": [
    "hdr_vals = OrderedDict([('EXTNAME', 'ANTENNA'), ('FILENAME', None)])\n",
    "hdr_coms = {'EXTNAME': 'name of binary table',\n",
    "            'FILENAME': 'filename of \"Antenna Log\"',\n",
    "            'TTYPE1': 'label for field 1',\n",
    "            'TFORM1': 'data format of field 1',\n",
    "            'TTYPE2': 'label for field 2',\n",
    "            'TFORM2': 'data format of field 2',\n",
    "            'TTYPE3': 'label for field 3',\n",
    "            'TFORM3': 'data format of field 3',\n",
    "            'TUNIT3': 'data unit of field 3',\n",
    "            'TTYPE4': 'label for field 4',\n",
    "            'TFORM4': 'data format of field 4',\n",
    "            'TUNIT4': 'data unit of field 4',\n",
    "            'TTYPE5': 'label for field 5',\n",
    "            'TFORM5': 'data format of field 5',\n",
    "            'TUNIT5': 'data unit of field 5',\n",
    "            'TTYPE6': 'label for field 6',\n",
    "            'TFORM6': 'data format of field 6',\n",
    "            'TUNIT6': 'data unit of field 6',\n",
    "            'TTYPE7': 'label for field 7',\n",
    "            'TFORM7': 'data format of field 7',\n",
    "            'TUNIT7': 'data unit of field 7',\n",
    "            'TTYPE8': 'label for field 8',\n",
    "            'TFORM8': 'data format of field 8',\n",
    "            'TUNIT8': 'data unit of field 8'}\n",
    "col_vals = OrderedDict([('time', None), ('scantype', None), ('az', None), ('el', None),\n",
    "                        ('ra', None), ('dec', None), ('az_center', None), ('el_center', None)])\n",
    "col_form = OrderedDict([('time', '26A'), ('scantype', '4A'), ('az', 'D'), ('el', 'D'),\n",
    "                        ('ra', 'D'), ('dec', 'D'), ('az_center', 'D'), ('el_center', 'D')])\n",
    "col_unit = OrderedDict([('time', None), ('scantype', None), ('az', 'deg'), ('el', 'deg'),\n",
    "                        ('ra', 'deg'), ('dec', 'deg'), ('az_center', 'deg'), ('el_center', 'deg')])\n",
    "\n",
    "antenna_dict = {'hdr_vals': hdr_vals, 'hdr_coms': hdr_coms, 'col_vals': col_vals,\n",
    "                'col_form': col_form, 'col_unit': col_unit}"
   ]
  },
  {
   "cell_type": "markdown",
   "metadata": {},
   "source": [
    "## READOUT"
   ]
  },
  {
   "cell_type": "code",
   "execution_count": null,
   "metadata": {
    "collapsed": true
   },
   "outputs": [],
   "source": [
    "hdr_vals = OrderedDict([('EXTNAME', 'READOUT'), ('FILENAME', None)])\n",
    "hdr_coms = {'EXTNAME': 'name of binary table',\n",
    "            'FILENAME': 'filename which is readed for READOUT',\n",
    "            'TTYPE1': 'label for field 1',\n",
    "            'TFORM1': 'data format of field 1',\n",
    "            'TTYPE2': 'label for field 2',\n",
    "            'TFORM2': 'data format of field 2',\n",
    "            'TTYPE3': 'label for field 3',\n",
    "            'TFORM3': 'data format of field 3',\n",
    "            'TUNIT3': 'data unit of field 3',\n",
    "            'TTYPE4': 'label for field 4',\n",
    "            'TFORM4': 'data format of field 4',\n",
    "            'TUNIT4': 'data unit of field 4'}\n",
    "col_vals = OrderedDict([('starttime', None), ('pixelid', None),\n",
    "                        ('Tsignal', None), ('Psignal', None)])\n",
    "col_form = OrderedDict([('starttime', '26A'), ('pixelid', 'K'),\n",
    "                        ('Tsignal', '63D'), ('Psignal', '63D')])\n",
    "col_unit = OrderedDict([('starttime', None), ('pixelid', None),\n",
    "                        ('Tsignal', 'K'), ('Psignal', 'W')])\n",
    "\n",
    "readout_dict = {'hdr_vals': hdr_vals, 'hdr_coms': hdr_coms, 'col_vals': col_vals,\n",
    "                'col_form': col_form, 'col_unit': col_unit}"
   ]
  },
  {
   "cell_type": "markdown",
   "metadata": {},
   "source": [
    "## WEATHER"
   ]
  },
  {
   "cell_type": "code",
   "execution_count": null,
   "metadata": {
    "collapsed": true
   },
   "outputs": [],
   "source": [
    "hdr_vals = OrderedDict([('WEATHER', 'ANTENNA'), ('FILENAME', None)])\n",
    "hdr_coms = {'EXTNAME': 'name of binary table',\n",
    "            'FILENAME': 'filename of \"Weather Log\"',\n",
    "            'TTYPE1': 'label for field 1',\n",
    "            'TFORM1': 'data format of field 1',\n",
    "            'TTYPE2': 'label for field 2',\n",
    "            'TFORM2': 'data format of field 2',\n",
    "            'TUNIT2': 'data unit of field 2',\n",
    "            'TTYPE3': 'label for field 3',\n",
    "            'TFORM3': 'data format of field 3',\n",
    "            'TUNIT3': 'data unit of field 3',\n",
    "            'TTYPE4': 'label for field 4',\n",
    "            'TFORM4': 'data format of field 4',\n",
    "            'TUNIT4': 'data unit of field 4',\n",
    "            'TTYPE5': 'label for field 5',\n",
    "            'TFORM5': 'data format of field 5',\n",
    "            'TUNIT5': 'data unit of field 5',\n",
    "            'TTYPE6': 'label for field 6',\n",
    "            'TFORM6': 'data format of field 6',\n",
    "            'TUNIT6': 'data unit of field 6',}\n",
    "col_vals = OrderedDict([('time', None), ('temperature', None), ('pressure', None),\n",
    "                        ('vapor-pressure', None), ('windspd', None), ('winddir', None)])\n",
    "col_form = OrderedDict([('time', '19A'), ('temperature', 'D'), ('pressure', 'D'),\n",
    "                        ('vapor-pressure', 'D'), ('windspd', 'D'), ('winddir', 'D')])\n",
    "col_unit = OrderedDict([('time', None), ('temperature', 'deg_C'), ('pressure', 'hPa'),\n",
    "                        ('vapor-pressure', 'hPa'), ('windspd', 'm/s'), ('winddir', 'deg')])\n",
    "\n",
    "weather_dict = {'hdr_vals': hdr_vals, 'hdr_coms': hdr_coms, 'col_vals': col_vals,\n",
    "                'col_form': col_form, 'col_unit': col_unit}"
   ]
  },
  {
   "cell_type": "markdown",
   "metadata": {},
   "source": [
    "## Write to the yaml file"
   ]
  },
  {
   "cell_type": "code",
   "execution_count": null,
   "metadata": {
    "collapsed": true
   },
   "outputs": [],
   "source": [
    "dfits_dict = {'obsinfo_dict': obsinfo_dict, 'antenna_dict': antenna_dict,\n",
    "              'readout_dict': readout_dict, 'weather_dict': weather_dict}\n",
    "\n",
    "fname = '/Users/tetsu/DESHIMA/merge_sample/dfits_dict.yaml'\n",
    "with open(fname, 'w') as f:\n",
    "    f.write(yaml.dump(dfits_dict, default_flow_style=False))"
   ]
  },
  {
   "cell_type": "code",
   "execution_count": null,
   "metadata": {
    "collapsed": true
   },
   "outputs": [],
   "source": []
  }
 ],
 "metadata": {
  "kernelspec": {
   "display_name": "Python 3",
   "language": "python",
   "name": "python3"
  },
  "language_info": {
   "codemirror_mode": {
    "name": "ipython",
    "version": 3
   },
   "file_extension": ".py",
   "mimetype": "text/x-python",
   "name": "python",
   "nbconvert_exporter": "python",
   "pygments_lexer": "ipython3",
   "version": "3.6.1"
  }
 },
 "nbformat": 4,
 "nbformat_minor": 2
}
