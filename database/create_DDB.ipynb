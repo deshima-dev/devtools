{
 "cells": [
  {
   "cell_type": "markdown",
   "metadata": {},
   "source": [
    "# <font color='Red'>DDB (DESHIMA DATABASE)</font>"
   ]
  },
  {
   "cell_type": "markdown",
   "metadata": {},
   "source": [
    "## Import Modules"
   ]
  },
  {
   "cell_type": "code",
   "execution_count": 1,
   "metadata": {
    "collapsed": true
   },
   "outputs": [],
   "source": [
    "from modules import *"
   ]
  },
  {
   "cell_type": "code",
   "execution_count": 2,
   "metadata": {
    "collapsed": true
   },
   "outputs": [],
   "source": [
    "%matplotlib inline\n",
    "import matplotlib.pyplot as plt"
   ]
  },
  {
   "cell_type": "markdown",
   "metadata": {},
   "source": [
    "## Make KIDs design table"
   ]
  },
  {
   "cell_type": "code",
   "execution_count": 3,
   "metadata": {
    "collapsed": true
   },
   "outputs": [],
   "source": [
    "chipname = {0:'LT119_FB3.3G_49ch'}\n",
    "\n",
    "def make_design(infile):\n",
    "    \n",
    "    d_dict = design_dict()\n",
    "    d_dict['hdr_val_lis'][1] = os.path.basename(infile)\n",
    "    \n",
    "    ##### read csv file\n",
    "    kid_design = ascii.read(infile)\n",
    "    #print( kid_design )\n",
    "    \n",
    "    ##### fill dictionary\n",
    "    pixelid = 0\n",
    "    chip = chipname[pixelid]\n",
    "    nkid = len(kid_design['master_id'])\n",
    "\n",
    "    d_dict['hdr_key_lis'].append('PIXEL%d' %pixelid)\n",
    "    d_dict['hdr_val_lis'].append( chip )\n",
    "    d_dict['hdr_com_lis'].insert(2, 'name of pixel %d' %pixelid)\n",
    "    d_dict['hdr_key_lis'].append('NKID%d' %pixelid)\n",
    "    d_dict['hdr_val_lis'].append( nkid )\n",
    "    d_dict['hdr_com_lis'].insert(3, 'number of KIDs (pixel %d)' %pixelid)\n",
    "    \n",
    "    d_dict['cols_data_lis'].append( np.ones(nkid)*pixelid )\n",
    "    d_dict['cols_data_lis'].append( list(kid_design['master_id']) )\n",
    "    d_dict['cols_data_lis'].append( list(kid_design['attribute']) )\n",
    "    d_dict['cols_data_lis'].append( list(kid_design['f_KID_design']) )   \n",
    "    d_dict['cols_data_lis'].append( list(kid_design['F_filter_design']) )\n",
    "\n",
    "    return createBinTableHdu(d_dict)"
   ]
  },
  {
   "cell_type": "code",
   "execution_count": 4,
   "metadata": {},
   "outputs": [
    {
     "name": "stderr",
     "output_type": "stream",
     "text": [
      "/Users/karatsu/.pyenv/versions/anaconda3-5.0.0/lib/python3.6/site-packages/astropy/io/fits/column.py:569: UserWarning: Warning: converting a masked element to nan.\n",
      "  array = np.array(array)\n"
     ]
    }
   ],
   "source": [
    "d_hdu = make_design('sqlite/LT119_FB3.3G_49ch.csv')"
   ]
  },
  {
   "cell_type": "code",
   "execution_count": 5,
   "metadata": {
    "scrolled": true
   },
   "outputs": [
    {
     "name": "stdout",
     "output_type": "stream",
     "text": [
      "XTENSION= 'BINTABLE'           / binary table extension                         BITPIX  =                    8 / array data type                                NAXIS   =                    2 / number of array dimensions                     NAXIS1  =                   20 / length of dimension 1                          NAXIS2  =                   66 / length of dimension 2                          PCOUNT  =                    0 / number of group parameters                     GCOUNT  =                    1 / number of groups                               TFIELDS =                    5 / number of table fields                         EXTNAME = 'KIDDES  '           / name of binary data                            FILENAME= 'LT119_FB3.3G_49ch.csv' / input filename                              PIXEL0  = 'LT119_FB3.3G_49ch'  / name of pixel 0                                NKID0   =                   66 / number of KIDs (pixel 0)                       TTYPE1  = 'pixelid '           / label for field 0                              TFORM1  = 'I       '           / data format of field 0                         TTYPE2  = 'masterid'           / label for field 1                              TFORM2  = 'I       '           / data format of field 1                         TTYPE3  = 'attribute'          / label for field 2                              TFORM3  = '8A      '           / data format of field 2                         TTYPE4  = 'fr_design'          / label for field 3                              TFORM4  = 'E       '           / data format of field 3                         TUNIT4  = 'GHz     '           / data unit of field 3                           TTYPE5  = 'F_filter_design'    / label for field 4                              TFORM5  = 'E       '           / data format of field 4                         TUNIT5  = 'GHz     '           / data unit of field 4                           END                                                                                                                                                                                                                                                                                                                                                                                                                                                                                                                                                                                                                                                                                                                                                                                                                                                                                                                                                                                             \n"
     ]
    },
    {
     "data": {
      "text/html": [
       "&lt;Table length=66&gt;\n",
       "<table id=\"table4540411072\" class=\"table-striped table-bordered table-condensed\">\n",
       "<thead><tr><th>pixelid</th><th>masterid</th><th>attribute</th><th>fr_design</th><th>F_filter_design</th></tr></thead>\n",
       "<thead><tr><th>int16</th><th>int16</th><th>str8</th><th>float32</th><th>float32</th></tr></thead>\n",
       "<tr><td>0</td><td>0</td><td>wideband</td><td>5.2</td><td>nan</td></tr>\n",
       "<tr><td>0</td><td>1</td><td>wideband</td><td>5.22</td><td>nan</td></tr>\n",
       "<tr><td>0</td><td>2</td><td>wideband</td><td>5.24</td><td>nan</td></tr>\n",
       "<tr><td>0</td><td>3</td><td>wideband</td><td>5.26</td><td>nan</td></tr>\n",
       "<tr><td>0</td><td>4</td><td>wideband</td><td>5.28</td><td>nan</td></tr>\n",
       "<tr><td>0</td><td>5</td><td>wideband</td><td>5.3</td><td>nan</td></tr>\n",
       "<tr><td>0</td><td>6</td><td>wideband</td><td>5.32</td><td>nan</td></tr>\n",
       "<tr><td>0</td><td>10</td><td>blind</td><td>6.6</td><td>nan</td></tr>\n",
       "<tr><td>0</td><td>11</td><td>blind</td><td>6.62</td><td>nan</td></tr>\n",
       "<tr><td>0</td><td>12</td><td>blind</td><td>6.64</td><td>nan</td></tr>\n",
       "<tr><td>...</td><td>...</td><td>...</td><td>...</td><td>...</td></tr>\n",
       "<tr><td>0</td><td>133</td><td>filter</td><td>6.25</td><td>332.721</td></tr>\n",
       "<tr><td>0</td><td>140</td><td>filter</td><td>6.36667</td><td>331.771</td></tr>\n",
       "<tr><td>0</td><td>147</td><td>filter</td><td>6.48333</td><td>330.823</td></tr>\n",
       "<tr><td>0</td><td>106</td><td>filter</td><td>5.6</td><td>329.878</td></tr>\n",
       "<tr><td>0</td><td>113</td><td>filter</td><td>5.71667</td><td>328.935</td></tr>\n",
       "<tr><td>0</td><td>120</td><td>filter</td><td>5.83333</td><td>327.995</td></tr>\n",
       "<tr><td>0</td><td>127</td><td>filter</td><td>6.15</td><td>327.058</td></tr>\n",
       "<tr><td>0</td><td>134</td><td>filter</td><td>6.26667</td><td>326.124</td></tr>\n",
       "<tr><td>0</td><td>141</td><td>filter</td><td>6.38333</td><td>325.192</td></tr>\n",
       "<tr><td>0</td><td>148</td><td>filter</td><td>6.5</td><td>324.263</td></tr>\n",
       "</table>"
      ],
      "text/plain": [
       "<Table length=66>\n",
       "pixelid masterid attribute fr_design F_filter_design\n",
       " int16   int16      str8    float32      float32    \n",
       "------- -------- --------- --------- ---------------\n",
       "      0        0  wideband       5.2             nan\n",
       "      0        1  wideband      5.22             nan\n",
       "      0        2  wideband      5.24             nan\n",
       "      0        3  wideband      5.26             nan\n",
       "      0        4  wideband      5.28             nan\n",
       "      0        5  wideband       5.3             nan\n",
       "      0        6  wideband      5.32             nan\n",
       "      0       10     blind       6.6             nan\n",
       "      0       11     blind      6.62             nan\n",
       "      0       12     blind      6.64             nan\n",
       "    ...      ...       ...       ...             ...\n",
       "      0      133    filter      6.25         332.721\n",
       "      0      140    filter   6.36667         331.771\n",
       "      0      147    filter   6.48333         330.823\n",
       "      0      106    filter       5.6         329.878\n",
       "      0      113    filter   5.71667         328.935\n",
       "      0      120    filter   5.83333         327.995\n",
       "      0      127    filter      6.15         327.058\n",
       "      0      134    filter   6.26667         326.124\n",
       "      0      141    filter   6.38333         325.192\n",
       "      0      148    filter       6.5         324.263"
      ]
     },
     "execution_count": 5,
     "metadata": {},
     "output_type": "execute_result"
    }
   ],
   "source": [
    "print(d_hdu.header)\n",
    "table.Table(d_hdu.data)"
   ]
  },
  {
   "cell_type": "code",
   "execution_count": 6,
   "metadata": {},
   "outputs": [
    {
     "name": "stdout",
     "output_type": "stream",
     "text": [
      "66 {0: 'wideband', 1: 'wideband', 2: 'wideband', 3: 'wideband', 4: 'wideband', 5: 'wideband', 6: 'wideband', 10: 'blind', 11: 'blind', 12: 'blind', 13: 'blind', 14: 'blind', 15: 'blind', 20: 'Al', 21: 'Al', 30: 'NbTiN', 31: 'NbTiN', 100: 'filter', 107: 'filter', 114: 'filter', 121: 'filter', 128: 'filter', 135: 'filter', 142: 'filter', 101: 'filter', 108: 'filter', 115: 'filter', 122: 'filter', 129: 'filter', 136: 'filter', 143: 'filter', 102: 'filter', 109: 'filter', 116: 'filter', 123: 'filter', 130: 'filter', 137: 'filter', 144: 'filter', 103: 'filter', 110: 'filter', 117: 'filter', 124: 'filter', 131: 'filter', 138: 'filter', 145: 'filter', 104: 'filter', 111: 'filter', 118: 'filter', 125: 'filter', 132: 'filter', 139: 'filter', 146: 'filter', 105: 'filter', 112: 'filter', 119: 'filter', 126: 'filter', 133: 'filter', 140: 'filter', 147: 'filter', 106: 'filter', 113: 'filter', 120: 'filter', 127: 'filter', 134: 'filter', 141: 'filter', 148: 'filter'}\n"
     ]
    }
   ],
   "source": [
    "kidname = {}\n",
    "for i,j in zip(d_hdu.data['masterid'],d_hdu.data['attribute']):\n",
    "    kidname[i] = j\n",
    "print( len(kidname), kidname )"
   ]
  },
  {
   "cell_type": "markdown",
   "metadata": {},
   "source": [
    "## Make KIDs filter table"
   ]
  },
  {
   "cell_type": "code",
   "execution_count": 7,
   "metadata": {
    "collapsed": true
   },
   "outputs": [],
   "source": [
    "import re\n",
    "import json\n",
    "\n",
    "def make_filter(dirname, ffile, jfile):\n",
    "\n",
    "    runid = int( re.split('_', dirname)[-2] )\n",
    "    framelen = 19 # depende on runid\n",
    "    pixelid = 0    \n",
    "\n",
    "    (kidid, Fsubmm, Spectrum_df, refid, F, dF, Q, dQ, fit_params)\\\n",
    "        = np.load(os.path.join(dirname, ffile), encoding='bytes')\n",
    "    kiddict = json.load( open(os.path.join(dirname, jfile)) )\n",
    "    print( kiddict )\n",
    "    \n",
    "    masterid = []\n",
    "    Fsubmm_, Spectrum_df_ = [], []\n",
    "    nkid = len(kidid)\n",
    "    for i in range(nkid):\n",
    "        tmpid = kidid[i]\n",
    "        \n",
    "        try:\n",
    "            mid = list(kiddict.keys())[ list(kiddict.values()).index(tmpid) ]\n",
    "            mid = int(mid)\n",
    "            kind = kidname[mid]\n",
    "        except ValueError:\n",
    "            print(i)\n",
    "            mid = -1\n",
    "            kind = 'unknown'\n",
    "\n",
    "        masterid.append( mid )\n",
    "        Fsubmm_.append(Fsubmm[i])\n",
    "        Spectrum_df_.append(Spectrum_df[i])\n",
    "    \n",
    "    f_dict = filter_dict()\n",
    "    f_dict['hdr_val_lis'][1] = os.path.basename(ffile)\n",
    "    f_dict['hdr_val_lis'][2] = os.path.basename(jfile)\n",
    "    \n",
    "    f_dict['hdr_key_lis'].append('NKID%d' %pixelid)\n",
    "    f_dict['hdr_val_lis'].append( nkid )\n",
    "    f_dict['hdr_com_lis'].insert(3, 'number of KIDs (pixel %d)' %pixelid)\n",
    "    \n",
    "    #####\n",
    "    f_dict['cols_data_lis'].append( np.ones(nkid)*pixelid )\n",
    "    f_dict['cols_data_lis'].append( kidid )\n",
    "    f_dict['cols_data_lis'].append( masterid )\n",
    "    runid_ = np.ones(nkid)*runid\n",
    "    framelen_ = np.ones(nkid)*framelen\n",
    "    refid_ = np.ones(nkid)*refid\n",
    "    f_dict['cols_data_lis'].append( np.array([runid_, framelen_, refid_]).T )\n",
    "    f_dict['cols_data_lis'].append( np.array([F, dF]).T )\n",
    "    f_dict['cols_data_lis'].append( np.array([Q, dQ]).T )\n",
    "      \n",
    "    f_dict['cols_data_lis'].append( fit_params )       \n",
    "    f_dict['cols_data_lis'].append( Fsubmm_ )\n",
    "    f_dict['cols_data_lis'].append( Spectrum_df_ )\n",
    "    f_dict['tform'][7] = '%dE' %len(Fsubmm_[0])\n",
    "    f_dict['tform'][8] = '%dE' %len(Spectrum_df_[0])\n",
    "    \n",
    "    \n",
    "    return createBinTableHdu(f_dict)   "
   ]
  },
  {
   "cell_type": "code",
   "execution_count": 8,
   "metadata": {
    "scrolled": true
   },
   "outputs": [
    {
     "name": "stdout",
     "output_type": "stream",
     "text": [
      "{'0': 0, '1': 2, '2': 4, '3': 1, '4': 3, '5': 5, '6': 6, '10': 57, '11': 58, '12': 59, '13': 60, '14': 61, '15': 62, '128': 35, '129': 36, '130': 38, '131': 37, '132': 39, '133': 40, '134': 41, '135': 42, '136': 43, '137': 45, '138': 46, '139': 47, '140': 48, '141': 49, '142': 50, '143': 51, '144': 52, '145': 53, '146': 54, '147': 55, '148': 56, '100': 7, '101': 9, '102': 8, '103': 10, '104': 11, '105': 12, '106': 13, '107': 14, '108': 17, '109': 18, '110': 15, '111': 16, '112': 19, '113': 20, '114': 21, '115': 23, '116': 25, '117': 24, '118': 22, '119': 26, '120': 27, '121': 28, '122': 29, '123': 30, '124': 32, '125': 31, '126': 33, '127': 34}\n",
      "44\n"
     ]
    }
   ],
   "source": [
    "f_hdu = make_filter(dirname='TerahertzScan_20170731_165125_00695_ana',\n",
    "                    ffile='AnaSpectrum2nd_fit_for_DDB.npy',\n",
    "                    jfile='kid_corresp.json')"
   ]
  },
  {
   "cell_type": "code",
   "execution_count": 9,
   "metadata": {
    "scrolled": true
   },
   "outputs": [
    {
     "name": "stdout",
     "output_type": "stream",
     "text": [
      "XTENSION= 'BINTABLE'           / binary table extension                         BITPIX  =                    8 / array data type                                NAXIS   =                    2 / number of array dimensions                     NAXIS1  =                16044 / length of dimension 1                          NAXIS2  =                   63 / length of dimension 2                          PCOUNT  =                    0 / number of group parameters                     GCOUNT  =                    1 / number of groups                               TFIELDS =                    9 / number of table fields                         EXTNAME = 'KIDFILT '           / name of binary data                            FILENAME= 'AnaSpectrum2nd_fit_for_DDB.npy' / input data filename                JSONNAME= 'kid_corresp.json'   / input json filename                            NKID0   =                   63 / number of KIDs (pixel 0)                       TTYPE1  = 'pixelid '           / label for field 0                              TFORM1  = 'I       '           / data format of field 0                         TTYPE2  = 'kidid   '           / label for field 1                              TFORM2  = 'I       '           / data format of field 1                         TTYPE3  = 'masterid'           / label for field 2                              TFORM3  = 'I       '           / data format of field 2                         TTYPE4  = 'runid, framelen, refid' / label for field 3                          TFORM4  = '3I      '           / data format of field 3                         TTYPE5  = 'F_filter, dF_filter' / label for field 4                             TFORM5  = '2E      '           / data format of field 4                         TUNIT5  = 'GHz     '           / data unit of field 4                           TTYPE6  = 'Q_filter, dQ_filter' / label for field 5                             TFORM6  = '2E      '           / data format of field 5                         TTYPE7  = 'fit params'         / (A, dA, F0, dF0, W, dW) for Lorentzian         TFORM7  = '6E      '           / data format of field 6                         TTYPE8  = 'Raw Toptica F'      / label for field 7                              TFORM8  = '1999E   '           / data format of field 7                         TUNIT8  = 'GHz     '           / data unit of field 7                           TTYPE9  = 'Raw df resp.'       / label for field 8                              TFORM9  = '1999E   '           / data format of field 8                         END                                                                                                                                                                                                                                                                                                                             \n"
     ]
    },
    {
     "data": {
      "text/html": [
       "&lt;Table length=63&gt;\n",
       "<table id=\"table4540859896\" class=\"table-striped table-bordered table-condensed\">\n",
       "<thead><tr><th>pixelid</th><th>kidid</th><th>masterid</th><th>runid, framelen, refid [3]</th><th>F_filter, dF_filter [2]</th><th>Q_filter, dQ_filter [2]</th><th>fit params [6]</th><th>Raw Toptica F [1999]</th><th>Raw df resp. [1999]</th></tr></thead>\n",
       "<thead><tr><th>int16</th><th>int16</th><th>int16</th><th>int16</th><th>float32</th><th>float32</th><th>float32</th><th>float32</th><th>float32</th></tr></thead>\n",
       "<tr><td>0</td><td>0</td><td>0</td><td>695 .. 0</td><td>nan .. nan</td><td>nan .. nan</td><td>nan .. nan</td><td>300.0 .. 399.9</td><td>5.31228e-08 .. 1.12719e-08</td></tr>\n",
       "<tr><td>0</td><td>1</td><td>3</td><td>695 .. 0</td><td>nan .. nan</td><td>nan .. nan</td><td>nan .. nan</td><td>300.0 .. 399.9</td><td>4.777e-08 .. 6.65043e-09</td></tr>\n",
       "<tr><td>0</td><td>2</td><td>1</td><td>695 .. 0</td><td>nan .. nan</td><td>nan .. nan</td><td>nan .. nan</td><td>300.0 .. 399.9</td><td>5.96409e-08 .. 5.90139e-09</td></tr>\n",
       "<tr><td>0</td><td>3</td><td>4</td><td>695 .. 0</td><td>nan .. nan</td><td>nan .. nan</td><td>nan .. nan</td><td>300.0 .. 399.9</td><td>6.99581e-08 .. 5.5669e-09</td></tr>\n",
       "<tr><td>0</td><td>4</td><td>2</td><td>695 .. 0</td><td>nan .. nan</td><td>nan .. nan</td><td>nan .. nan</td><td>300.0 .. 399.9</td><td>5.84056e-08 .. 6.89835e-09</td></tr>\n",
       "<tr><td>0</td><td>5</td><td>5</td><td>695 .. 0</td><td>nan .. nan</td><td>nan .. nan</td><td>nan .. nan</td><td>300.0 .. 399.9</td><td>5.81362e-08 .. 4.80009e-09</td></tr>\n",
       "<tr><td>0</td><td>6</td><td>6</td><td>695 .. 0</td><td>nan .. nan</td><td>nan .. nan</td><td>nan .. nan</td><td>300.0 .. 399.9</td><td>4.2877e-08 .. 4.93584e-09</td></tr>\n",
       "<tr><td>0</td><td>7</td><td>100</td><td>695 .. 0</td><td>376.158 .. 0.00387784</td><td>287.354 .. 2.41789</td><td>95.0547 .. 0.0110147</td><td>300.0 .. 399.9</td><td>1.053e-08 .. 1.07848e-08</td></tr>\n",
       "<tr><td>0</td><td>8</td><td>102</td><td>695 .. 0</td><td>363.022 .. 0.00799948</td><td>161.062 .. 1.6173</td><td>15.3692 .. 0.0226326</td><td>300.0 .. 399.9</td><td>9.88716e-09 .. 8.2716e-09</td></tr>\n",
       "<tr><td>0</td><td>9</td><td>101</td><td>695 .. 0</td><td>369.278 .. 0.00832718</td><td>196.866 .. 2.4735</td><td>28.7464 .. 0.0235679</td><td>300.0 .. 399.9</td><td>7.71181e-09 .. 9.31857e-09</td></tr>\n",
       "<tr><td>...</td><td>...</td><td>...</td><td>...</td><td>...</td><td>...</td><td>...</td><td>...</td><td>...</td></tr>\n",
       "<tr><td>0</td><td>53</td><td>145</td><td>695 .. 0</td><td>351.111 .. 0.00228847</td><td>280.949 .. 1.45517</td><td>27.5321 .. 0.00647292</td><td>300.0 .. 399.9</td><td>1.16595e-08 .. 7.55274e-09</td></tr>\n",
       "<tr><td>0</td><td>54</td><td>146</td><td>695 .. 0</td><td>345.097 .. 0.00257476</td><td>286.676 .. 1.73434</td><td>32.1206 .. 0.00728272</td><td>300.0 .. 399.9</td><td>6.47014e-09 .. 7.78226e-09</td></tr>\n",
       "<tr><td>0</td><td>55</td><td>147</td><td>695 .. 0</td><td>338.586 .. 0.00251363</td><td>313.889 .. 2.06889</td><td>29.7616 .. 0.00710974</td><td>300.0 .. 399.9</td><td>6.29384e-09 .. 5.03095e-08</td></tr>\n",
       "<tr><td>0</td><td>56</td><td>148</td><td>695 .. 0</td><td>331.457 .. 0.00169772</td><td>326.298 .. 1.54258</td><td>43.2859 .. 0.00480227</td><td>300.0 .. 399.9</td><td>8.0249e-09 .. 1.057e-08</td></tr>\n",
       "<tr><td>0</td><td>57</td><td>10</td><td>695 .. 0</td><td>nan .. nan</td><td>nan .. nan</td><td>nan .. nan</td><td>300.0 .. 399.9</td><td>1.38825e-08 .. 7.31165e-09</td></tr>\n",
       "<tr><td>0</td><td>58</td><td>11</td><td>695 .. 0</td><td>nan .. nan</td><td>nan .. nan</td><td>nan .. nan</td><td>300.0 .. 399.9</td><td>1.35031e-08 .. 6.52462e-09</td></tr>\n",
       "<tr><td>0</td><td>59</td><td>12</td><td>695 .. 0</td><td>nan .. nan</td><td>nan .. nan</td><td>nan .. nan</td><td>300.0 .. 399.9</td><td>1.75371e-08 .. 8.14079e-09</td></tr>\n",
       "<tr><td>0</td><td>60</td><td>13</td><td>695 .. 0</td><td>nan .. nan</td><td>nan .. nan</td><td>nan .. nan</td><td>300.0 .. 399.9</td><td>1.97038e-08 .. 6.96e-09</td></tr>\n",
       "<tr><td>0</td><td>61</td><td>14</td><td>695 .. 0</td><td>nan .. nan</td><td>nan .. nan</td><td>nan .. nan</td><td>300.0 .. 399.9</td><td>5.115e-09 .. 5.94157e-09</td></tr>\n",
       "<tr><td>0</td><td>62</td><td>15</td><td>695 .. 0</td><td>nan .. nan</td><td>nan .. nan</td><td>nan .. nan</td><td>300.0 .. 399.9</td><td>5.38232e-09 .. 7.59418e-09</td></tr>\n",
       "</table>"
      ],
      "text/plain": [
       "<Table length=63>\n",
       "pixelid kidid masterid ... Raw Toptica F [1999]    Raw df resp. [1999]    \n",
       " int16  int16  int16   ...       float32                 float32          \n",
       "------- ----- -------- ... -------------------- --------------------------\n",
       "      0     0        0 ...       300.0 .. 399.9 5.31228e-08 .. 1.12719e-08\n",
       "      0     1        3 ...       300.0 .. 399.9   4.777e-08 .. 6.65043e-09\n",
       "      0     2        1 ...       300.0 .. 399.9 5.96409e-08 .. 5.90139e-09\n",
       "      0     3        4 ...       300.0 .. 399.9  6.99581e-08 .. 5.5669e-09\n",
       "      0     4        2 ...       300.0 .. 399.9 5.84056e-08 .. 6.89835e-09\n",
       "      0     5        5 ...       300.0 .. 399.9 5.81362e-08 .. 4.80009e-09\n",
       "      0     6        6 ...       300.0 .. 399.9  4.2877e-08 .. 4.93584e-09\n",
       "      0     7      100 ...       300.0 .. 399.9   1.053e-08 .. 1.07848e-08\n",
       "      0     8      102 ...       300.0 .. 399.9  9.88716e-09 .. 8.2716e-09\n",
       "      0     9      101 ...       300.0 .. 399.9 7.71181e-09 .. 9.31857e-09\n",
       "    ...   ...      ... ...                  ...                        ...\n",
       "      0    53      145 ...       300.0 .. 399.9 1.16595e-08 .. 7.55274e-09\n",
       "      0    54      146 ...       300.0 .. 399.9 6.47014e-09 .. 7.78226e-09\n",
       "      0    55      147 ...       300.0 .. 399.9 6.29384e-09 .. 5.03095e-08\n",
       "      0    56      148 ...       300.0 .. 399.9    8.0249e-09 .. 1.057e-08\n",
       "      0    57       10 ...       300.0 .. 399.9 1.38825e-08 .. 7.31165e-09\n",
       "      0    58       11 ...       300.0 .. 399.9 1.35031e-08 .. 6.52462e-09\n",
       "      0    59       12 ...       300.0 .. 399.9 1.75371e-08 .. 8.14079e-09\n",
       "      0    60       13 ...       300.0 .. 399.9    1.97038e-08 .. 6.96e-09\n",
       "      0    61       14 ...       300.0 .. 399.9   5.115e-09 .. 5.94157e-09\n",
       "      0    62       15 ...       300.0 .. 399.9 5.38232e-09 .. 7.59418e-09"
      ]
     },
     "execution_count": 9,
     "metadata": {},
     "output_type": "execute_result"
    }
   ],
   "source": [
    "print(f_hdu.header)\n",
    "table.Table(f_hdu.data)"
   ]
  },
  {
   "cell_type": "code",
   "execution_count": 10,
   "metadata": {},
   "outputs": [
    {
     "name": "stdout",
     "output_type": "stream",
     "text": [
      "(0, 44, -1, array([695,  19,   0], dtype=int16), array([ nan,  nan], dtype=float32), array([ nan,  nan], dtype=float32), array([ nan,  nan,  nan,  nan,  nan,  nan], dtype=float32), array([ 300.        ,  300.04998779,  300.1000061 , ...,  399.79998779,\n",
      "        399.8500061 ,  399.8999939 ], dtype=float32), array([  5.27341548e-08,   1.30950795e-07,   1.00359962e-07, ...,\n",
      "         9.04725823e-08,   8.64671179e-08,   8.11201204e-08], dtype=float32))\n"
     ]
    }
   ],
   "source": [
    "print(f_hdu.data[44])"
   ]
  },
  {
   "cell_type": "markdown",
   "metadata": {},
   "source": [
    "## Make KIDs repsonsivity table"
   ]
  },
  {
   "cell_type": "code",
   "execution_count": 11,
   "metadata": {
    "collapsed": true
   },
   "outputs": [],
   "source": [
    "def make_resp(dirname, rfile, jfile):\n",
    "\n",
    "    runid = int( re.search('([0-9]+)', dirname).group() )\n",
    "    framelen = 19 # depende on runid\n",
    "    pixelid = 0\n",
    "    \n",
    "    ##### phase = fshift\n",
    "    (kidid, Tarray, Parray, dParray,\\\n",
    "        data_ampl, err_ampl, data_phase, err_phase,\\\n",
    "         fit_ampl, fiterr_ampl, fit_phase, fiterr_phase) = np.load(os.path.join(dirname, rfile), encoding='bytes')\n",
    "    kiddict = json.load( open(jfile) )\n",
    "    print( kiddict )\n",
    "    \n",
    "    masterid = []\n",
    "    fit_params = []\n",
    "    Tload, Pload, df, dferr = [], [], [], []\n",
    "    nkid = len(kidid)\n",
    "    for i in range(nkid):\n",
    "        tmpid = kidid[i]\n",
    "        \n",
    "        try:\n",
    "            mid = list(kiddict.keys())[ list(kiddict.values()).index(tmpid) ]\n",
    "            mid = int(mid)\n",
    "            kind = kidname[mid]\n",
    "        except ValueError:\n",
    "            print(i)\n",
    "            mid = -1\n",
    "            kind = 'unknown'\n",
    "\n",
    "        masterid.append( mid )\n",
    "        fit_params.append( [fit_phase[i][0], fiterr_phase[i][0], fit_phase[i][1], fiterr_phase[i][1]] )\n",
    "        Tload.append( Tarray[i] )\n",
    "        Pload.append( Parray[i] )\n",
    "        df.append( data_phase[i] )\n",
    "        dferr.append( err_phase[i] )\n",
    "    \n",
    "    r_dict = resp_dict()\n",
    "    r_dict['hdr_val_lis'][1] = os.path.basename(rfile)\n",
    "    r_dict['hdr_val_lis'][2] = os.path.basename(jfile)\n",
    "    \n",
    "    r_dict['hdr_key_lis'].append('NKID%d' %pixelid)\n",
    "    r_dict['hdr_val_lis'].append( nkid )\n",
    "    r_dict['hdr_com_lis'].insert(3, 'number of KIDs (pixel %d)' %pixelid)\n",
    "    \n",
    "    #####\n",
    "    r_dict['cols_data_lis'].append( np.ones(nkid)*pixelid )\n",
    "    r_dict['cols_data_lis'].append( kidid )\n",
    "    r_dict['cols_data_lis'].append( masterid )\n",
    "    runid_ = np.ones(nkid)*runid\n",
    "    framelen_ = np.ones(nkid)*framelen\n",
    "    r_dict['cols_data_lis'].append( np.array([runid_, framelen_]).T )\n",
    "      \n",
    "    r_dict['cols_data_lis'].append( fit_params )\n",
    "    \n",
    "    r_dict['cols_data_lis'].append( Tload )\n",
    "    r_dict['cols_data_lis'].append( Pload )\n",
    "    r_dict['cols_data_lis'].append( df )\n",
    "    r_dict['cols_data_lis'].append( dferr )\n",
    "    \n",
    "    r_dict['tform'][5] = '%dE' %len(Tload[0])\n",
    "    r_dict['tform'][6] = '%dE' %len(Pload[0])\n",
    "    r_dict['tform'][7] = '%dE' %len(df[0])\n",
    "    r_dict['tform'][8] = '%dE' %len(dferr[0])\n",
    "    \n",
    "    return createBinTableHdu(r_dict)   "
   ]
  },
  {
   "cell_type": "code",
   "execution_count": 12,
   "metadata": {},
   "outputs": [
    {
     "name": "stdout",
     "output_type": "stream",
     "text": [
      "{'0': 0, '1': 2, '2': 4, '3': 1, '4': 3, '5': 5, '6': 6, '10': 57, '11': 58, '12': 59, '13': 60, '14': 61, '15': 62, '128': 35, '129': 36, '130': 38, '131': 37, '132': 39, '133': 40, '134': 41, '135': 42, '136': 43, '137': 45, '138': 46, '139': 47, '140': 48, '141': 49, '142': 50, '143': 51, '144': 52, '145': 53, '146': 54, '147': 55, '148': 56, '100': 7, '101': 9, '102': 8, '103': 10, '104': 11, '105': 12, '106': 13, '107': 14, '108': 17, '109': 18, '110': 15, '111': 16, '112': 19, '113': 20, '114': 21, '115': 23, '116': 25, '117': 24, '118': 22, '119': 26, '120': 27, '121': 28, '122': 29, '123': 30, '124': 32, '125': 31, '126': 33, '127': 34}\n",
      "44\n"
     ]
    }
   ],
   "source": [
    "resp_hdu = make_resp(dirname='Basic707_Grid_ana',\n",
    "                     rfile='SetSlice/Responsivity_fit.npy',\n",
    "                     jfile='TerahertzScan_20170731_165125_00695_ana/kid_corresp.json')"
   ]
  },
  {
   "cell_type": "code",
   "execution_count": 13,
   "metadata": {
    "scrolled": true
   },
   "outputs": [
    {
     "name": "stdout",
     "output_type": "stream",
     "text": [
      "XTENSION= 'BINTABLE'           / binary table extension                         BITPIX  =                    8 / array data type                                NAXIS   =                    2 / number of array dimensions                     NAXIS1  =                  218 / length of dimension 1                          NAXIS2  =                   63 / length of dimension 2                          PCOUNT  =                    0 / number of group parameters                     GCOUNT  =                    1 / number of groups                               TFIELDS =                    9 / number of table fields                         EXTNAME = 'KIDRESP '           / name of binary data                            FILENAME= 'Responsivity_fit.npy' / input data filename                          JSONNAME= 'kid_corresp.json'   / input json filename                            NKID0   =                   63 / number of KIDs (pixel 0)                       TTYPE1  = 'pixelid '           / label for field 0                              TFORM1  = 'I       '           / data format of field 0                         TTYPE2  = 'kidid   '           / label for field 1                              TFORM2  = 'I       '           / data format of field 1                         TTYPE3  = 'masterid'           / label for field 2                              TFORM3  = 'I       '           / data format of field 2                         TTYPE4  = 'runid, framelen'    / label for field 3                              TFORM4  = '2I      '           / data format of field 3                         TTYPE5  = 'fit params'         / (p0, dp0, p1, dp1): p0*sqrt(x) + p1            TFORM5  = '4E      '           / data format of field 4                         TTYPE6  = 'Raw Tload'          / label for field 5                              TFORM6  = '12E     '           / data format of field 5                         TUNIT6  = 'K       '           / data unit of field 5                           TTYPE7  = 'Raw Pload'          / label for field 6                              TFORM7  = '12E     '           / data format of field 6                         TUNIT7  = 'W       '           / data unit of field 6                           TTYPE8  = 'Raw df resp.'       / label for field 7                              TFORM8  = '12E     '           / data format of field 7                         TTYPE9  = 'Raw dferr'          / label for field 8                              TFORM9  = '12E     '           / data format of field 8                         END                                                                                                                                                                                                                                                                                                                             \n"
     ]
    },
    {
     "data": {
      "text/html": [
       "&lt;Table length=63&gt;\n",
       "<table id=\"table4526057008\" class=\"table-striped table-bordered table-condensed\">\n",
       "<thead><tr><th>pixelid</th><th>kidid</th><th>masterid</th><th>runid, framelen [2]</th><th>fit params [4]</th><th>Raw Tload [12]</th><th>Raw Pload [12]</th><th>Raw df resp. [12]</th><th>Raw dferr [12]</th></tr></thead>\n",
       "<thead><tr><th>int16</th><th>int16</th><th>int16</th><th>int16</th><th>float32</th><th>float32</th><th>float32</th><th>float32</th><th>float32</th></tr></thead>\n",
       "<tr><td>0</td><td>0</td><td>0</td><td>707 .. 19</td><td>1.12175e-06 .. 5.8831e-08</td><td>77.0 .. 295.0</td><td>2.23071e-11 .. 6.63818e-11</td><td>-3.43749e-06 .. 5.98405e-06</td><td>1.16312e-08 .. 1.28881e-08</td></tr>\n",
       "<tr><td>0</td><td>1</td><td>3</td><td>707 .. 19</td><td>4.28176e-07 .. 3.55343e-08</td><td>77.0 .. 295.0</td><td>1.16959e-11 .. 3.48278e-11</td><td>-3.02605e-06 .. 5.56803e-07</td><td>1.1991e-08 .. 1.22471e-08</td></tr>\n",
       "<tr><td>0</td><td>2</td><td>1</td><td>707 .. 19</td><td>1.13931e-06 .. 6.19285e-08</td><td>77.0 .. 295.0</td><td>2.15396e-11 .. 6.41049e-11</td><td>-3.27228e-06 .. 6.28223e-06</td><td>1.02434e-08 .. 1.07853e-08</td></tr>\n",
       "<tr><td>0</td><td>3</td><td>4</td><td>707 .. 19</td><td>4.2865e-07 .. 3.64856e-08</td><td>77.0 .. 295.0</td><td>9.707e-12 .. 2.89054e-11</td><td>8.21626e-06 .. 1.18001e-05</td><td>1.08061e-08 .. 9.62984e-09</td></tr>\n",
       "<tr><td>0</td><td>4</td><td>2</td><td>707 .. 19</td><td>1.19689e-06 .. 7.13392e-08</td><td>77.0 .. 295.0</td><td>2.03637e-11 .. 6.06041e-11</td><td>2.47615e-05 .. 3.47882e-05</td><td>1.2634e-08 .. 1.42527e-08</td></tr>\n",
       "<tr><td>0</td><td>5</td><td>5</td><td>707 .. 19</td><td>2.97456e-07 .. 2.86076e-08</td><td>77.0 .. 295.0</td><td>9.16402e-12 .. 2.72883e-11</td><td>1.96855e-05 .. 2.21706e-05</td><td>1.28616e-08 .. 9.71301e-09</td></tr>\n",
       "<tr><td>0</td><td>6</td><td>6</td><td>707 .. 19</td><td>2.15536e-07 .. 2.38698e-08</td><td>77.0 .. 295.0</td><td>8.74722e-12 .. 2.60425e-11</td><td>-1.42993e-05 .. -1.25009e-05</td><td>1.34233e-08 .. 1.03703e-08</td></tr>\n",
       "<tr><td>0</td><td>7</td><td>100</td><td>707 .. 19</td><td>1.39323e-06 .. 8.96586e-08</td><td>77.0 .. 295.0</td><td>7.97035e-14 .. 2.36409e-13</td><td>-2.25001e-05 .. -1.08154e-05</td><td>1.86545e-08 .. 1.86217e-08</td></tr>\n",
       "<tr><td>0</td><td>8</td><td>102</td><td>707 .. 19</td><td>1.69067e-06 .. 3.55977e-07</td><td>77.0 .. 295.0</td><td>8.42903e-13 .. 2.50324e-12</td><td>-7.06318e-06 .. 7.33461e-06</td><td>1.88222e-08 .. 1.61918e-08</td></tr>\n",
       "<tr><td>0</td><td>9</td><td>101</td><td>707 .. 19</td><td>1.8348e-06 .. 1.29217e-07</td><td>77.0 .. 295.0</td><td>2.70338e-13 .. 8.02247e-13</td><td>-2.55063e-06 .. 1.28083e-05</td><td>1.55863e-08 .. 1.64747e-08</td></tr>\n",
       "<tr><td>...</td><td>...</td><td>...</td><td>...</td><td>...</td><td>...</td><td>...</td><td>...</td><td>...</td></tr>\n",
       "<tr><td>0</td><td>53</td><td>145</td><td>707 .. 19</td><td>1.80478e-06 .. 1.26046e-07</td><td>77.0 .. 295.0</td><td>1.24513e-12 .. 3.70294e-12</td><td>1.76088e-05 .. 3.27158e-05</td><td>1.73507e-08 .. 1.88558e-08</td></tr>\n",
       "<tr><td>0</td><td>54</td><td>146</td><td>707 .. 19</td><td>1.84987e-06 .. 1.01794e-07</td><td>77.0 .. 295.0</td><td>1.05497e-12 .. 3.13964e-12</td><td>-7.3959e-06 .. 8.11731e-06</td><td>1.69715e-08 .. 1.81973e-08</td></tr>\n",
       "<tr><td>0</td><td>55</td><td>147</td><td>707 .. 19</td><td>1.1955e-06 .. 6.06642e-08</td><td>77.0 .. 295.0</td><td>9.10863e-13 .. 2.71036e-12</td><td>-1.94596e-05 .. -9.43451e-06</td><td>1.7594e-08 .. 1.71914e-08</td></tr>\n",
       "<tr><td>0</td><td>56</td><td>148</td><td>707 .. 19</td><td>5.8149e-07 .. 3.37614e-08</td><td>77.0 .. 295.0</td><td>6.84966e-13 .. 2.04148e-12</td><td>-1.47251e-05 .. -9.85508e-06</td><td>1.81306e-08 .. 1.76181e-08</td></tr>\n",
       "<tr><td>0</td><td>57</td><td>10</td><td>707 .. 19</td><td>6.5066e-08 .. 1.26239e-08</td><td>77.0 .. 295.0</td><td>5.59714e-15 .. 1.66311e-14</td><td>1.17371e-05 .. 1.22772e-05</td><td>1.40319e-08 .. 1.06825e-08</td></tr>\n",
       "<tr><td>0</td><td>58</td><td>11</td><td>707 .. 19</td><td>6.24103e-08 .. 1.20962e-08</td><td>77.0 .. 295.0</td><td>5.09552e-15 .. 1.5144e-14</td><td>-8.5597e-06 .. -8.03991e-06</td><td>1.70844e-08 .. 1.14734e-08</td></tr>\n",
       "<tr><td>0</td><td>59</td><td>12</td><td>707 .. 19</td><td>5.86024e-08 .. 1.19593e-08</td><td>77.0 .. 295.0</td><td>4.91329e-15 .. 1.45942e-14</td><td>-1.62543e-06 .. -1.13734e-06</td><td>1.97436e-08 .. 1.22716e-08</td></tr>\n",
       "<tr><td>0</td><td>60</td><td>13</td><td>707 .. 19</td><td>5.7211e-08 .. 1.13977e-08</td><td>77.0 .. 295.0</td><td>4.36197e-15 .. 1.29613e-14</td><td>6.1049e-06 .. 6.58583e-06</td><td>2.17235e-08 .. 1.36134e-08</td></tr>\n",
       "<tr><td>0</td><td>61</td><td>14</td><td>707 .. 19</td><td>9.73653e-09 .. 2.86105e-09</td><td>77.0 .. 295.0</td><td>2.18452e-15 .. 6.46041e-15</td><td>1.11499e-05 .. 1.12322e-05</td><td>7.68377e-09 .. 7.8634e-09</td></tr>\n",
       "<tr><td>0</td><td>62</td><td>15</td><td>707 .. 19</td><td>9.74469e-09 .. 4.14164e-09</td><td>77.0 .. 295.0</td><td>2.11622e-15 .. 6.25608e-15</td><td>-1.98856e-05 .. -1.98101e-05</td><td>9.8279e-09 .. 1.04392e-08</td></tr>\n",
       "</table>"
      ],
      "text/plain": [
       "<Table length=63>\n",
       "pixelid kidid ...      Raw df resp. [12]             Raw dferr [12]      \n",
       " int16  int16 ...           float32                     float32          \n",
       "------- ----- ... ---------------------------- --------------------------\n",
       "      0     0 ...  -3.43749e-06 .. 5.98405e-06 1.16312e-08 .. 1.28881e-08\n",
       "      0     1 ...  -3.02605e-06 .. 5.56803e-07  1.1991e-08 .. 1.22471e-08\n",
       "      0     2 ...  -3.27228e-06 .. 6.28223e-06 1.02434e-08 .. 1.07853e-08\n",
       "      0     3 ...   8.21626e-06 .. 1.18001e-05 1.08061e-08 .. 9.62984e-09\n",
       "      0     4 ...   2.47615e-05 .. 3.47882e-05  1.2634e-08 .. 1.42527e-08\n",
       "      0     5 ...   1.96855e-05 .. 2.21706e-05 1.28616e-08 .. 9.71301e-09\n",
       "      0     6 ... -1.42993e-05 .. -1.25009e-05 1.34233e-08 .. 1.03703e-08\n",
       "      0     7 ... -2.25001e-05 .. -1.08154e-05 1.86545e-08 .. 1.86217e-08\n",
       "      0     8 ...  -7.06318e-06 .. 7.33461e-06 1.88222e-08 .. 1.61918e-08\n",
       "      0     9 ...  -2.55063e-06 .. 1.28083e-05 1.55863e-08 .. 1.64747e-08\n",
       "    ...   ... ...                          ...                        ...\n",
       "      0    53 ...   1.76088e-05 .. 3.27158e-05 1.73507e-08 .. 1.88558e-08\n",
       "      0    54 ...   -7.3959e-06 .. 8.11731e-06 1.69715e-08 .. 1.81973e-08\n",
       "      0    55 ... -1.94596e-05 .. -9.43451e-06  1.7594e-08 .. 1.71914e-08\n",
       "      0    56 ... -1.47251e-05 .. -9.85508e-06 1.81306e-08 .. 1.76181e-08\n",
       "      0    57 ...   1.17371e-05 .. 1.22772e-05 1.40319e-08 .. 1.06825e-08\n",
       "      0    58 ...  -8.5597e-06 .. -8.03991e-06 1.70844e-08 .. 1.14734e-08\n",
       "      0    59 ... -1.62543e-06 .. -1.13734e-06 1.97436e-08 .. 1.22716e-08\n",
       "      0    60 ...    6.1049e-06 .. 6.58583e-06 2.17235e-08 .. 1.36134e-08\n",
       "      0    61 ...   1.11499e-05 .. 1.12322e-05  7.68377e-09 .. 7.8634e-09\n",
       "      0    62 ... -1.98856e-05 .. -1.98101e-05  9.8279e-09 .. 1.04392e-08"
      ]
     },
     "execution_count": 13,
     "metadata": {},
     "output_type": "execute_result"
    }
   ],
   "source": [
    "print(resp_hdu.header)\n",
    "table.Table(resp_hdu.data)"
   ]
  },
  {
   "cell_type": "markdown",
   "metadata": {},
   "source": [
    "## Make KIDs RCP table"
   ]
  },
  {
   "cell_type": "code",
   "execution_count": 17,
   "metadata": {
    "collapsed": true
   },
   "outputs": [],
   "source": [
    "def make_rcp():\n",
    "#    filters_data = Path(rcp_data).expanduser()\n",
    "\n",
    "    pixelid   = [0]\n",
    "    offsetaz  = np.zeros(1)\n",
    "    offsetel  = np.zeros(1)\n",
    "    gain      = np.ones(1)\n",
    "    \n",
    "    filename = None\n",
    "\n",
    "    r_dict = rcp_dict()\n",
    "\n",
    "    r_dict['hdr_val_lis'][1] = filename\n",
    "    r_dict['cols_data_lis'] = [pixelid, offsetaz, offsetel, gain]\n",
    "\n",
    "    return createBinTableHdu(r_dict)"
   ]
  },
  {
   "cell_type": "code",
   "execution_count": 18,
   "metadata": {},
   "outputs": [],
   "source": [
    "rcp_hdu = make_rcp()"
   ]
  },
  {
   "cell_type": "code",
   "execution_count": 19,
   "metadata": {},
   "outputs": [
    {
     "name": "stdout",
     "output_type": "stream",
     "text": [
      "XTENSION= 'BINTABLE'           / binary table extension                         BITPIX  =                    8 / array data type                                NAXIS   =                    2 / number of array dimensions                     NAXIS1  =                   32 / length of dimension 1                          NAXIS2  =                    1 / length of dimension 2                          PCOUNT  =                    0 / number of group parameters                     GCOUNT  =                    1 / number of groups                               TFIELDS =                    4 / number of table fields                         EXTNAME = 'KIDRCP  '           / name of binary table                           FILENAME= '' / filename??                                                       TTYPE1  = 'pixelid '                                                            TFORM1  = 'K       '           / label for field 0                              TTYPE2  = 'offsetaz'           / data format of field 0                         TFORM2  = 'D       '           / label for field 1                              TUNIT2  = 'deg     '           / data format of field 1                         TTYPE3  = 'offsetel'           / label for field 2                              TFORM3  = 'D       '           / data format of field 2                         TUNIT3  = 'deg     '           / data unit of field 2                           TTYPE4  = 'gain    '           / label for field 3                              TFORM4  = 'D       '           / data format of field 3                         TUNIT4  = '1       '           / data unit of field 3                           END                                                                                                                                                                                                                                                                                                                                                                                                                                                                                                                                                                                                                                                                                                                                                                                                                                                                                                                                                                                                                                                                                                                                                                                                                                             \n"
     ]
    },
    {
     "data": {
      "text/html": [
       "&lt;Table length=1&gt;\n",
       "<table id=\"table4541433896\" class=\"table-striped table-bordered table-condensed\">\n",
       "<thead><tr><th>pixelid</th><th>offsetaz</th><th>offsetel</th><th>gain</th></tr></thead>\n",
       "<thead><tr><th>int64</th><th>float64</th><th>float64</th><th>float64</th></tr></thead>\n",
       "<tr><td>0</td><td>0.0</td><td>0.0</td><td>1.0</td></tr>\n",
       "</table>"
      ],
      "text/plain": [
       "<Table length=1>\n",
       "pixelid offsetaz offsetel   gain \n",
       " int64  float64  float64  float64\n",
       "------- -------- -------- -------\n",
       "      0      0.0      0.0     1.0"
      ]
     },
     "execution_count": 19,
     "metadata": {},
     "output_type": "execute_result"
    }
   ],
   "source": [
    "print(rcp_hdu.header)\n",
    "table.Table(rcp_hdu.data)"
   ]
  },
  {
   "cell_type": "markdown",
   "metadata": {},
   "source": [
    "## Save to fits file"
   ]
  },
  {
   "cell_type": "code",
   "execution_count": 20,
   "metadata": {
    "collapsed": true
   },
   "outputs": [],
   "source": [
    "hdus = fits.HDUList()\n",
    "hdus.append( fits.PrimaryHDU() )\n",
    "\n",
    "hdus['PRIMARY'].header['DDB_ID'] = '20171031', 'The ID of DESHIMA DataBase'\n",
    "hdus.append( d_hdu )\n",
    "hdus.append( f_hdu )\n",
    "hdus.append( resp_hdu )\n",
    "hdus.append( rcp_hdu )"
   ]
  },
  {
   "cell_type": "code",
   "execution_count": 21,
   "metadata": {},
   "outputs": [
    {
     "name": "stdout",
     "output_type": "stream",
     "text": [
      "Filename: (No file associated with this HDUList)\n",
      "No.    Name      Ver    Type      Cards   Dimensions   Format\n",
      "  0  PRIMARY       1 PrimaryHDU       5   ()      \n",
      "  1  KIDDES        1 BinTableHDU     24   66R x 5C   ['I', 'I', '8A', 'E', 'E']   \n",
      "  2  KIDFILT       1 BinTableHDU     32   63R x 9C   ['I', 'I', 'I', '3I', '2E', '2E', '6E', '1999E', '1999E']   \n",
      "  3  KIDRESP       1 BinTableHDU     32   63R x 9C   ['I', 'I', 'I', '2I', '4E', '12E', '12E', '12E', '12E']   \n",
      "  4  KIDRCP        1 BinTableHDU     21   1R x 4C   ['K', 'D', 'D', 'D']   \n"
     ]
    }
   ],
   "source": [
    "hdus.info()"
   ]
  },
  {
   "cell_type": "code",
   "execution_count": 21,
   "metadata": {
    "collapsed": true
   },
   "outputs": [],
   "source": [
    "ddb_fitsname = 'DDB_' + hdus['PRIMARY'].header['DDB_ID'] + '.fits'\n",
    "hdus.writeto(ddb_fitsname, overwrite=True)"
   ]
  },
  {
   "cell_type": "code",
   "execution_count": null,
   "metadata": {
    "collapsed": true
   },
   "outputs": [],
   "source": []
  }
 ],
 "metadata": {
  "kernelspec": {
   "display_name": "Python 3",
   "language": "python",
   "name": "python3"
  },
  "language_info": {
   "codemirror_mode": {
    "name": "ipython",
    "version": 3
   },
   "file_extension": ".py",
   "mimetype": "text/x-python",
   "name": "python",
   "nbconvert_exporter": "python",
   "pygments_lexer": "ipython3",
   "version": "3.6.2"
  }
 },
 "nbformat": 4,
 "nbformat_minor": 2
}
